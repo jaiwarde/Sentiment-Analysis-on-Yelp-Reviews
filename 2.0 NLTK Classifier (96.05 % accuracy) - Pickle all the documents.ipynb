{
 "cells": [
  {
   "cell_type": "markdown",
   "metadata": {},
   "source": [
    "# Sentiment analysis by classifying reviews as either positive or negative"
   ]
  },
  {
   "cell_type": "code",
   "execution_count": 12,
   "metadata": {},
   "outputs": [],
   "source": [
    "#import all the necessary libraries\n",
    "import pandas as pd\n",
    "import numpy as np\n",
    "import os\n",
    "import seaborn as sns\n",
    "import matplotlib.pyplot as plt\n",
    "import itertools\n",
    "\n",
    "from collections import defaultdict"
   ]
  },
  {
   "cell_type": "code",
   "execution_count": 13,
   "metadata": {},
   "outputs": [],
   "source": [
    "import nltk\n",
    "import random\n",
    "from nltk.classify.scikitlearn import SklearnClassifier\n",
    "import pickle\n",
    "from sklearn.naive_bayes import MultinomialNB, BernoulliNB\n",
    "from sklearn.linear_model import LogisticRegression, SGDClassifier\n",
    "from sklearn.svm import SVC, LinearSVC, NuSVC\n",
    "from nltk.classify import ClassifierI\n",
    "from statistics import mode\n",
    "from nltk.tokenize import word_tokenize\n",
    "from nltk.stem import PorterStemmer\n",
    "from nltk.tokenize import sent_tokenize, word_tokenize"
   ]
  },
  {
   "cell_type": "code",
   "execution_count": 14,
   "metadata": {},
   "outputs": [],
   "source": [
    "#import all the necessary csv files\n",
    "parent_dir = 'D:/DCU Documents/Semester 2/Data Analytics and Data Mining/Project/Kaggle Dataset/'\n",
    "\n",
    "path_dic = {\n",
    "            'B':parent_dir+'business_s.csv',\n",
    "            'R':parent_dir+'Review2021.csv',\n",
    "            'U':parent_dir+'U.csv',\n",
    "            'D':parent_dir+'documents.csv'\n",
    "           }\n",
    "\n",
    "documents = pd.read_csv(path_dic['D'])"
   ]
  },
  {
   "cell_type": "markdown",
   "metadata": {},
   "source": [
    "# NLTK"
   ]
  },
  {
   "cell_type": "code",
   "execution_count": 15,
   "metadata": {},
   "outputs": [],
   "source": [
    "save_documents = open(\"D:/DCU Documents/Semester 2/Data Analytics and Data Mining/Project/pickled_algos/documents.pickle\",\"wb\")\n",
    "pickle.dump(documents, save_documents)\n",
    "save_documents.close()"
   ]
  },
  {
   "cell_type": "code",
   "execution_count": 16,
   "metadata": {},
   "outputs": [
    {
     "name": "stdout",
     "output_type": "stream",
     "text": [
      "They can't manage to get online orders right and no one there answers the phone to be able to correct them. They don't even have a voicemail to leave a message.\n"
     ]
    }
   ],
   "source": [
    "print(documents.iloc[0][1])"
   ]
  },
  {
   "cell_type": "code",
   "execution_count": 17,
   "metadata": {},
   "outputs": [
    {
     "name": "stdout",
     "output_type": "stream",
     "text": [
      "['python', 'python', 'python', 'python', 'pythonli']\n"
     ]
    }
   ],
   "source": [
    "# We will use the stemmer to stem all the words\n",
    "ps = PorterStemmer()\n",
    "example_words = [\"python\",\"pythoner\",\"pythoning\",\"pythoned\",\"pythonly\"]\n",
    "\n",
    "print([ps.stem(w) for w in example_words])"
   ]
  },
  {
   "cell_type": "code",
   "execution_count": 18,
   "metadata": {},
   "outputs": [
    {
     "name": "stderr",
     "output_type": "stream",
     "text": [
      "[nltk_data] Downloading package stopwords to\n",
      "[nltk_data]     C:\\Users\\akhau\\AppData\\Roaming\\nltk_data...\n",
      "[nltk_data]   Package stopwords is already up-to-date!\n"
     ]
    },
    {
     "data": {
      "text/plain": [
       "True"
      ]
     },
     "execution_count": 18,
     "metadata": {},
     "output_type": "execute_result"
    }
   ],
   "source": [
    "import nltk\n",
    "nltk.download('stopwords')"
   ]
  },
  {
   "cell_type": "code",
   "execution_count": 19,
   "metadata": {},
   "outputs": [
    {
     "name": "stdout",
     "output_type": "stream",
     "text": [
      "This nonsense. I hate place. The food bad service terrible\n"
     ]
    }
   ],
   "source": [
    "from nltk.corpus import stopwords\n",
    " \n",
    "data = \"This is nonsense. I hate this place. The food is bad and the service is terrible\"\n",
    "stopWords = list(set(stopwords.words('english')))\n",
    "# stopWords[:5]\n",
    "print(' '.join([w for w in data.split() if w not in stopWords ]))"
   ]
  },
  {
   "cell_type": "code",
   "execution_count": 20,
   "metadata": {},
   "outputs": [],
   "source": [
    "documents.columns\n",
    "documents.drop(documents.columns[[0]], axis = 1, inplace = True)"
   ]
  },
  {
   "cell_type": "code",
   "execution_count": 21,
   "metadata": {},
   "outputs": [],
   "source": [
    "records = documents. to_records(index=False)\n",
    "result = list(records)\n",
    "#print(result)"
   ]
  },
  {
   "cell_type": "code",
   "execution_count": 22,
   "metadata": {},
   "outputs": [
    {
     "name": "stdout",
     "output_type": "stream",
     "text": [
      "[('the', 611940), ('and', 476996), ('i', 344674), ('to', 328368), ('a', 299903), ('wa', 234370), ('of', 169808), ('for', 152467), ('it', 151977), ('is', 145721), ('in', 141882), ('my', 133234), ('they', 117527), ('thi', 110457), ('with', 107695)]\n",
      "stupid appeared: 319 times\n"
     ]
    }
   ],
   "source": [
    "all_words = []\n",
    "\n",
    "for (t, star) in result:\n",
    "    for word in t.split():\n",
    "        w = word.lower().replace('.', '').replace(',', '').replace('!', '')\n",
    "        all_words.append(ps.stem(w))\n",
    "        \n",
    "all_words = nltk.FreqDist(all_words)\n",
    "print(all_words.most_common(15))\n",
    "print(\"stupid appeared: \" + str(all_words['stupid']) + \" times\")"
   ]
  },
  {
   "cell_type": "code",
   "execution_count": 23,
   "metadata": {},
   "outputs": [
    {
     "name": "stdout",
     "output_type": "stream",
     "text": [
      "['the', 'and', 'i', 'to', 'a', 'wa', 'of', 'for', 'it', 'is']\n"
     ]
    }
   ],
   "source": [
    "words_features = [s for (s,_) in list(all_words.most_common(5000))]\n",
    "\n",
    "save_word_features = open(\"D:/DCU Documents/Semester 2/Data Analytics and Data Mining/Project/pickled_algos/word_features5k.pickle\",\"wb\")\n",
    "pickle.dump(words_features, save_word_features)\n",
    "save_word_features.close()\n",
    "\n",
    "print(words_features[:10])"
   ]
  },
  {
   "cell_type": "code",
   "execution_count": 24,
   "metadata": {},
   "outputs": [
    {
     "name": "stdout",
     "output_type": "stream",
     "text": [
      "({'answer': True, 'have': True, 'abl': True, 'the': True, 'get': True, 'manag': True, 'a': True, 'onlin': True, \"can't\": True, 'no': True, 'correct': True, 'them': True, 'one': True, 'they': True, 'leav': True, 'order': True, 'and': True, 'messag': True, 'be': True, 'to': True, 'even': True, 'there': True, 'right': True, \"don't\": True, 'phone': True, 'voicemail': True}, 1.0)\n"
     ]
    }
   ],
   "source": [
    "documents = result\n",
    "def find_features(document):\n",
    "    words = set(document.split())\n",
    "    features = {}\n",
    "    for w in words:\n",
    "        w = w.lower().replace('.', '').replace(',', '').replace('!', '')\n",
    "        w = ps.stem(w)\n",
    "        features[w] = (w in words_features)\n",
    "    return features\n",
    "\n",
    "featuresets = [(find_features(doc), star) for (doc,star) in documents]\n",
    "\n",
    "print(featuresets[0])"
   ]
  },
  {
   "cell_type": "code",
   "execution_count": 25,
   "metadata": {},
   "outputs": [
    {
     "data": {
      "text/plain": [
       "134530"
      ]
     },
     "execution_count": 25,
     "metadata": {},
     "output_type": "execute_result"
    }
   ],
   "source": [
    "len(featuresets)"
   ]
  },
  {
   "cell_type": "code",
   "execution_count": 26,
   "metadata": {},
   "outputs": [
    {
     "name": "stdout",
     "output_type": "stream",
     "text": [
      "pos rate:  0.7314640407556647\n",
      "len of temp:  125823\n"
     ]
    }
   ],
   "source": [
    "# POS to NEG encode\n",
    "temp = []\n",
    "pos_count = 0\n",
    "for i in range(len(featuresets)):\n",
    "    if featuresets[i][1] >= 4:\n",
    "        temp.append((featuresets[i][0], 'pos'))\n",
    "        pos_count = pos_count + 1\n",
    "    elif featuresets[i][1] <= 2:\n",
    "        temp.append((featuresets[i][0], 'neg'))\n",
    "print(\"pos rate: \", pos_count / len(temp))\n",
    "print(\"len of temp: \", len(temp))"
   ]
  },
  {
   "cell_type": "markdown",
   "metadata": {},
   "source": [
    "# Trying out some clfs"
   ]
  },
  {
   "cell_type": "code",
   "execution_count": 27,
   "metadata": {},
   "outputs": [
    {
     "name": "stdout",
     "output_type": "stream",
     "text": [
      "100658\n",
      "25165\n"
     ]
    }
   ],
   "source": [
    "training_set = temp[:100658]\n",
    "testing_set = temp[100658:]\n",
    "\n",
    "print(len(training_set))\n",
    "print(len(testing_set))"
   ]
  },
  {
   "cell_type": "code",
   "execution_count": 28,
   "metadata": {},
   "outputs": [
    {
     "name": "stdout",
     "output_type": "stream",
     "text": [
      "Naive Bayes Classifier accuracy:  67.96344128750248\n",
      "Most Informative Features\n",
      "                     smh = True              neg : pos    =    212.3 : 1.0\n",
      "                incompet = True              neg : pos    =    195.6 : 1.0\n",
      "                  rudest = True              neg : pos    =    194.1 : 1.0\n",
      "            unprofession = True              neg : pos    =    151.1 : 1.0\n",
      "                 fraudul = True              neg : pos    =    128.5 : 1.0\n",
      "                  racist = True              neg : pos    =    124.6 : 1.0\n",
      "                careless = True              neg : pos    =     95.7 : 1.0\n",
      "                  violat = True              neg : pos    =     95.7 : 1.0\n",
      "                   audac = True              neg : pos    =     93.5 : 1.0\n",
      "                 disgust = True              neg : pos    =     90.8 : 1.0\n",
      "                    scam = True              neg : pos    =     86.5 : 1.0\n",
      "                   unwil = False             neg : pos    =     84.7 : 1.0\n",
      "                 blatant = False             neg : pos    =     82.9 : 1.0\n",
      "                unaccept = True              neg : pos    =     78.7 : 1.0\n",
      "                   accus = True              neg : pos    =     72.0 : 1.0\n"
     ]
    }
   ],
   "source": [
    "np.random.seed(4747)\n",
    "\n",
    "clf = nltk.NaiveBayesClassifier.train(training_set)\n",
    "print(\"Naive Bayes Classifier accuracy: \", nltk.classify.accuracy(clf, testing_set) * 100)\n",
    "clf.show_most_informative_features(15)"
   ]
  },
  {
   "cell_type": "markdown",
   "metadata": {},
   "source": [
    "## Combing multiple classifiers"
   ]
  },
  {
   "cell_type": "code",
   "execution_count": 29,
   "metadata": {},
   "outputs": [
    {
     "name": "stdout",
     "output_type": "stream",
     "text": [
      "Original Naive Bayes Algo accuracy percent: 67.96344128750248\n",
      "Most Informative Features\n",
      "                     smh = True              neg : pos    =    212.3 : 1.0\n",
      "                incompet = True              neg : pos    =    195.6 : 1.0\n",
      "                  rudest = True              neg : pos    =    194.1 : 1.0\n",
      "            unprofession = True              neg : pos    =    151.1 : 1.0\n",
      "                 fraudul = True              neg : pos    =    128.5 : 1.0\n",
      "                  racist = True              neg : pos    =    124.6 : 1.0\n",
      "                careless = True              neg : pos    =     95.7 : 1.0\n",
      "                  violat = True              neg : pos    =     95.7 : 1.0\n",
      "                   audac = True              neg : pos    =     93.5 : 1.0\n",
      "                 disgust = True              neg : pos    =     90.8 : 1.0\n",
      "                    scam = True              neg : pos    =     86.5 : 1.0\n",
      "                   unwil = False             neg : pos    =     84.7 : 1.0\n",
      "                 blatant = False             neg : pos    =     82.9 : 1.0\n",
      "                unaccept = True              neg : pos    =     78.7 : 1.0\n",
      "                   accus = True              neg : pos    =     72.0 : 1.0\n",
      "MNB_classifier accuracy percent: 91.48817802503477\n",
      "BernoulliNB_classifier accuracy percent: 84.3035962646533\n",
      "LogisticRegression_classifier accuracy percent: 96.1136499105901\n",
      "LinearSVC_classifier accuracy percent: 95.62090204649316\n",
      "SGDClassifier accuracy percent: 96.20902046493146\n"
     ]
    }
   ],
   "source": [
    "classifier = nltk.NaiveBayesClassifier.train(training_set)\n",
    "print(\"Original Naive Bayes Algo accuracy percent:\", (nltk.classify.accuracy(classifier, testing_set))*100)\n",
    "classifier.show_most_informative_features(15)\n",
    "\n",
    "###############\n",
    "save_classifier = open(\"D:/DCU Documents/Semester 2/Data Analytics and Data Mining/Project/pickled_algos/originalnaivebayes5k.pickle\",\"wb\")\n",
    "pickle.dump(classifier, save_classifier)\n",
    "save_classifier.close()\n",
    "\n",
    "MNB_classifier = SklearnClassifier(MultinomialNB())\n",
    "MNB_classifier.train(training_set)\n",
    "print(\"MNB_classifier accuracy percent:\", (nltk.classify.accuracy(MNB_classifier, testing_set))*100)\n",
    "\n",
    "save_classifier = open(\"D:/DCU Documents/Semester 2/Data Analytics and Data Mining/Project/pickled_algos/MNB_classifier5k.pickle\",\"wb\")\n",
    "pickle.dump(MNB_classifier, save_classifier)\n",
    "save_classifier.close()\n",
    "\n",
    "BernoulliNB_classifier = SklearnClassifier(BernoulliNB())\n",
    "BernoulliNB_classifier.train(training_set)\n",
    "print(\"BernoulliNB_classifier accuracy percent:\", (nltk.classify.accuracy(BernoulliNB_classifier, testing_set))*100)\n",
    "\n",
    "save_classifier = open(\"D:/DCU Documents/Semester 2/Data Analytics and Data Mining/Project/pickled_algos/BernoulliNB_classifier5k.pickle\",\"wb\")\n",
    "pickle.dump(BernoulliNB_classifier, save_classifier)\n",
    "save_classifier.close()\n",
    "\n",
    "LogisticRegression_classifier = SklearnClassifier(LogisticRegression(max_iter=1200000))\n",
    "LogisticRegression_classifier.train(training_set)\n",
    "print(\"LogisticRegression_classifier accuracy percent:\", (nltk.classify.accuracy(LogisticRegression_classifier, testing_set))*100)\n",
    "\n",
    "save_classifier = open(\"D:/DCU Documents/Semester 2/Data Analytics and Data Mining/Project/pickled_algos/LogisticRegression_classifier5k.pickle\",\"wb\")\n",
    "pickle.dump(LogisticRegression_classifier, save_classifier)\n",
    "save_classifier.close()\n",
    "\n",
    "LinearSVC_classifier = SklearnClassifier(LinearSVC(max_iter=1200000))\n",
    "LinearSVC_classifier.train(training_set)\n",
    "print(\"LinearSVC_classifier accuracy percent:\", (nltk.classify.accuracy(LinearSVC_classifier, testing_set))*100)\n",
    "\n",
    "save_classifier = open(\"D:/DCU Documents/Semester 2/Data Analytics and Data Mining/Project/pickled_algos/LinearSVC_classifier5k.pickle\",\"wb\")\n",
    "pickle.dump(LinearSVC_classifier, save_classifier)\n",
    "save_classifier.close()\n",
    "\n",
    "SGDC_classifier = SklearnClassifier(SGDClassifier())\n",
    "SGDC_classifier.train(training_set)\n",
    "print(\"SGDClassifier accuracy percent:\",nltk.classify.accuracy(SGDC_classifier, testing_set)*100)\n",
    "\n",
    "save_classifier = open(\"D:/DCU Documents/Semester 2/Data Analytics and Data Mining/Project/pickled_algos/SGDC_classifier5k.pickle\",\"wb\")\n",
    "pickle.dump(SGDC_classifier, save_classifier)\n",
    "save_classifier.close()"
   ]
  },
  {
   "cell_type": "markdown",
   "metadata": {},
   "source": [
    "Now let's combine the clfs！"
   ]
  },
  {
   "cell_type": "code",
   "execution_count": 30,
   "metadata": {},
   "outputs": [
    {
     "name": "stdout",
     "output_type": "stream",
     "text": [
      "voted_classifier accuracy percent: 96.02622690244387\n"
     ]
    }
   ],
   "source": [
    "class VoteClassifier(ClassifierI):\n",
    "    def __init__(self, *classifiers):\n",
    "        self._classifiers = classifiers\n",
    "\n",
    "    def classify(self, features):\n",
    "        votes = []\n",
    "        for c in self._classifiers:\n",
    "            v = c.classify(features)\n",
    "            votes.append(v)\n",
    "        return mode(votes)\n",
    "\n",
    "    def confidence(self, features):\n",
    "        votes = []\n",
    "        for c in self._classifiers:\n",
    "            v = c.classify(features)\n",
    "            votes.append(v)\n",
    "\n",
    "        chosen_class = votes.count(mode(votes))\n",
    "        return chosen_class / len(votes)\n",
    "    \n",
    "voted_classifier = VoteClassifier(MNB_classifier,\n",
    "                                  LogisticRegression_classifier, \n",
    "                                  LinearSVC_classifier)\n",
    "print(\"voted_classifier accuracy percent:\", (nltk.classify.accuracy(voted_classifier, testing_set))*100)\n"
   ]
  },
  {
   "cell_type": "markdown",
   "metadata": {},
   "source": [
    "96.05 % is really impressive!!!!!!!"
   ]
  },
  {
   "cell_type": "code",
   "execution_count": 31,
   "metadata": {},
   "outputs": [],
   "source": [
    "def sentiment(text):\n",
    "    feats = find_features(text)\n",
    "    return voted_classifier.classify(feats),voted_classifier.confidence(feats)"
   ]
  },
  {
   "cell_type": "markdown",
   "metadata": {},
   "source": [
    "# Looking at the misclassified ones..."
   ]
  },
  {
   "cell_type": "code",
   "execution_count": 32,
   "metadata": {},
   "outputs": [
    {
     "data": {
      "text/html": [
       "<div>\n",
       "<style scoped>\n",
       "    .dataframe tbody tr th:only-of-type {\n",
       "        vertical-align: middle;\n",
       "    }\n",
       "\n",
       "    .dataframe tbody tr th {\n",
       "        vertical-align: top;\n",
       "    }\n",
       "\n",
       "    .dataframe thead th {\n",
       "        text-align: right;\n",
       "    }\n",
       "</style>\n",
       "<table border=\"1\" class=\"dataframe\">\n",
       "  <thead>\n",
       "    <tr style=\"text-align: right;\">\n",
       "      <th></th>\n",
       "      <th>text</th>\n",
       "      <th>confidence</th>\n",
       "      <th>predicted</th>\n",
       "      <th>actual</th>\n",
       "    </tr>\n",
       "  </thead>\n",
       "  <tbody>\n",
       "    <tr>\n",
       "      <th>0</th>\n",
       "      <td>I got Castaways via Uber eats, and let me tell...</td>\n",
       "      <td>1.0</td>\n",
       "      <td>pos</td>\n",
       "      <td>5.0</td>\n",
       "    </tr>\n",
       "    <tr>\n",
       "      <th>1</th>\n",
       "      <td>We ordered via Ubereats, from Castaway's Sport...</td>\n",
       "      <td>1.0</td>\n",
       "      <td>pos</td>\n",
       "      <td>5.0</td>\n",
       "    </tr>\n",
       "    <tr>\n",
       "      <th>2</th>\n",
       "      <td>This was a cool little spot with great food fo...</td>\n",
       "      <td>1.0</td>\n",
       "      <td>pos</td>\n",
       "      <td>5.0</td>\n",
       "    </tr>\n",
       "    <tr>\n",
       "      <th>3</th>\n",
       "      <td>I went here from a recommendation about their ...</td>\n",
       "      <td>1.0</td>\n",
       "      <td>pos</td>\n",
       "      <td>5.0</td>\n",
       "    </tr>\n",
       "    <tr>\n",
       "      <th>4</th>\n",
       "      <td>On a cold night a little hot pho always sounds...</td>\n",
       "      <td>1.0</td>\n",
       "      <td>pos</td>\n",
       "      <td>4.0</td>\n",
       "    </tr>\n",
       "  </tbody>\n",
       "</table>\n",
       "</div>"
      ],
      "text/plain": [
       "                                                text  confidence predicted  \\\n",
       "0  I got Castaways via Uber eats, and let me tell...         1.0       pos   \n",
       "1  We ordered via Ubereats, from Castaway's Sport...         1.0       pos   \n",
       "2  This was a cool little spot with great food fo...         1.0       pos   \n",
       "3  I went here from a recommendation about their ...         1.0       pos   \n",
       "4  On a cold night a little hot pho always sounds...         1.0       pos   \n",
       "\n",
       "   actual  \n",
       "0     5.0  \n",
       "1     5.0  \n",
       "2     5.0  \n",
       "3     5.0  \n",
       "4     4.0  "
      ]
     },
     "execution_count": 32,
     "metadata": {},
     "output_type": "execute_result"
    }
   ],
   "source": [
    "res = defaultdict(list)\n",
    "\n",
    "# take the test set\n",
    "temp_documents = documents[100658:]\n",
    "\n",
    "for i in range(len(temp_documents)):\n",
    "    pred, conf = sentiment(temp_documents[i][0])\n",
    "    res['text'].append(temp_documents[i][0])\n",
    "    res['confidence'].append(conf)\n",
    "    res['predicted'].append(pred)\n",
    "    res['actual'].append(temp_documents[i][1])\n",
    "res = pd.DataFrame(res)\n",
    "res.head()"
   ]
  },
  {
   "cell_type": "code",
   "execution_count": 33,
   "metadata": {},
   "outputs": [
    {
     "name": "stdout",
     "output_type": "stream",
     "text": [
      "number of misclassifications:  1179\n",
      "misclassification rate:  0.03480751062824752\n"
     ]
    },
    {
     "data": {
      "text/html": [
       "<div>\n",
       "<style scoped>\n",
       "    .dataframe tbody tr th:only-of-type {\n",
       "        vertical-align: middle;\n",
       "    }\n",
       "\n",
       "    .dataframe tbody tr th {\n",
       "        vertical-align: top;\n",
       "    }\n",
       "\n",
       "    .dataframe thead th {\n",
       "        text-align: right;\n",
       "    }\n",
       "</style>\n",
       "<table border=\"1\" class=\"dataframe\">\n",
       "  <thead>\n",
       "    <tr style=\"text-align: right;\">\n",
       "      <th></th>\n",
       "      <th>text</th>\n",
       "      <th>confidence</th>\n",
       "      <th>predicted</th>\n",
       "      <th>actual</th>\n",
       "      <th>actual_encode</th>\n",
       "    </tr>\n",
       "  </thead>\n",
       "  <tbody>\n",
       "    <tr>\n",
       "      <th>0</th>\n",
       "      <td>The food was not tasty. The only thing that wa...</td>\n",
       "      <td>1.000000</td>\n",
       "      <td>pos</td>\n",
       "      <td>2.0</td>\n",
       "      <td>neg</td>\n",
       "    </tr>\n",
       "    <tr>\n",
       "      <th>1</th>\n",
       "      <td>Came here the other day and overheard a quiet ...</td>\n",
       "      <td>0.666667</td>\n",
       "      <td>pos</td>\n",
       "      <td>1.0</td>\n",
       "      <td>neg</td>\n",
       "    </tr>\n",
       "    <tr>\n",
       "      <th>2</th>\n",
       "      <td>I know this is a sushi joint.... but you HAVE ...</td>\n",
       "      <td>0.666667</td>\n",
       "      <td>neg</td>\n",
       "      <td>5.0</td>\n",
       "      <td>pos</td>\n",
       "    </tr>\n",
       "    <tr>\n",
       "      <th>3</th>\n",
       "      <td>A great store to shop at they allow all custom...</td>\n",
       "      <td>1.000000</td>\n",
       "      <td>neg</td>\n",
       "      <td>5.0</td>\n",
       "      <td>pos</td>\n",
       "    </tr>\n",
       "    <tr>\n",
       "      <th>4</th>\n",
       "      <td>I just moved downtown and I heard about this s...</td>\n",
       "      <td>0.666667</td>\n",
       "      <td>neg</td>\n",
       "      <td>5.0</td>\n",
       "      <td>pos</td>\n",
       "    </tr>\n",
       "  </tbody>\n",
       "</table>\n",
       "</div>"
      ],
      "text/plain": [
       "                                                text  confidence predicted  \\\n",
       "0  The food was not tasty. The only thing that wa...    1.000000       pos   \n",
       "1  Came here the other day and overheard a quiet ...    0.666667       pos   \n",
       "2  I know this is a sushi joint.... but you HAVE ...    0.666667       neg   \n",
       "3  A great store to shop at they allow all custom...    1.000000       neg   \n",
       "4  I just moved downtown and I heard about this s...    0.666667       neg   \n",
       "\n",
       "   actual actual_encode  \n",
       "0     2.0           neg  \n",
       "1     1.0           neg  \n",
       "2     5.0           pos  \n",
       "3     5.0           pos  \n",
       "4     5.0           pos  "
      ]
     },
     "execution_count": 33,
     "metadata": {},
     "output_type": "execute_result"
    }
   ],
   "source": [
    "res['actual_encode'] = np.where((res['actual'] == 4.0) | (res['actual'] == 5.0), 'pos', 'neg')\n",
    "\n",
    "misclassified = res[res['actual_encode'] != res['predicted']]\n",
    "misclassified = misclassified[misclassified['actual']!=3]\n",
    "misclassified.index = range(len(misclassified))\n",
    "print(\"number of misclassifications: \", len(misclassified))\n",
    "print(\"misclassification rate: \", len(misclassified) / len(temp_documents))\n",
    "misclassified.head()"
   ]
  },
  {
   "cell_type": "code",
   "execution_count": 34,
   "metadata": {},
   "outputs": [],
   "source": [
    "def plot_confusion_matrix(cm, classes,\n",
    "                          normalize=False,\n",
    "                          title='Confusion matrix',\n",
    "                          cmap=plt.cm.Blues):\n",
    "    \"\"\"\n",
    "    This function prints and plots the confusion matrix.\n",
    "    Normalization can be applied by setting `normalize=True`.\n",
    "    \"\"\"\n",
    "    if normalize:\n",
    "        cm = cm.astype('float') / cm.sum(axis=1)[:, np.newaxis]\n",
    "        print(\"Normalized confusion matrix\")\n",
    "    else:\n",
    "        print('Confusion matrix, without normalization')\n",
    "\n",
    "    print(cm)\n",
    "\n",
    "    plt.imshow(cm, interpolation='nearest', cmap=cmap)\n",
    "    plt.title(title)\n",
    "    plt.colorbar()\n",
    "    tick_marks = np.arange(len(classes))\n",
    "    plt.xticks(tick_marks, classes, rotation=45)\n",
    "    plt.yticks(tick_marks, classes)\n",
    "\n",
    "    fmt = '.2f' if normalize else 'd'\n",
    "    thresh = cm.max() / 2.\n",
    "    for i, j in itertools.product(range(cm.shape[0]), range(cm.shape[1])):\n",
    "        plt.text(j, i, format(cm[i, j], fmt),\n",
    "                 horizontalalignment=\"center\",\n",
    "                 color=\"white\" if cm[i, j] > thresh else \"black\")\n",
    "\n",
    "    plt.tight_layout()\n",
    "    plt.ylabel('True label')\n",
    "    plt.xlabel('Predicted label')"
   ]
  },
  {
   "cell_type": "code",
   "execution_count": 35,
   "metadata": {},
   "outputs": [
    {
     "name": "stdout",
     "output_type": "stream",
     "text": [
      "Normalized confusion matrix\n",
      "[[0.83337913 0.16662087]\n",
      " [0.02217382 0.97782618]]\n"
     ]
    },
    {
     "data": {
      "image/png": "[encoded data removed]",
      "text/plain": [
       "<Figure size 432x288 with 2 Axes>"
      ]
     },
     "metadata": {
      "needs_background": "light"
     },
     "output_type": "display_data"
    }
   ],
   "source": [
    "from sklearn import metrics\n",
    "y_test = res['actual_encode']\n",
    "y_pred = res['predicted']\n",
    "class_names = ['neg', 'pos']\n",
    "\n",
    "\n",
    "# Compute confusion matrix\n",
    "cnf_matrix = metrics.confusion_matrix(y_test, y_pred)\n",
    "\n",
    "# Plot normalized confusion matrix\n",
    "plt.figure()\n",
    "plot_confusion_matrix(cnf_matrix, classes=class_names, normalize=True,\n",
    "                      title='Normalized confusion matrix')\n",
    "\n",
    "plt.show()"
   ]
  },
  {
   "cell_type": "code",
   "execution_count": 36,
   "metadata": {},
   "outputs": [
    {
     "name": "stdout",
     "output_type": "stream",
     "text": [
      "Came here the other day and overheard a quiet conversation by the White heavy set lady working there saying \"if the Jews keep allowing al these n****rs and f****ts into Portland, I'm going to have to lock my doors\". Yeah... uhhhh.... not getting my business, sorry but no thanks. I'm just glad I get to write a Yelp review about it so that others can also make an informed decision on whether to support their business.\n",
      "\n",
      "{'keep': True, 'that': True, 'ladi': True, 'day': True, \"i'm\": True, 'lock': True, 'here': True, 'have': True, 'say': True, 'go': True, 'get': True, 'inform': True, 'yeah': True, 'work': True, 'whether': True, 'came': True, 'other': True, '\"if': False, 'the': True, 'heavi': True, 'review': True, 'an': True, 'a': True, 'allow': True, 'f****t': False, 'my': True, 'no': True, 'their': True, 'set': True, 'these': True, 'busi': True, 'yelp': True, 'can': True, 'doors\"': False, 'decis': True, 'it': True, 'jew': False, 'about': True, 'white': True, 'n****r': False, 'and': True, 'but': True, 'overheard': False, 'to': True, 'on': True, 'make': True, 'also': True, 'i': True, 'thank': True, 'there': True, 'portland': True, 'not': True, 'al': True, 'sorri': True, 'glad': True, 'so': True, 'just': True, 'support': True, 'uhhhh': False, 'write': True, 'quiet': True, 'into': True, 'by': True, 'convers': True}\n"
     ]
    }
   ],
   "source": [
    "print(misclassified.loc[1, 'text'])\n",
    "print()\n",
    "print(find_features(misclassified.loc[1, 'text']))"
   ]
  },
  {
   "cell_type": "code",
   "execution_count": 38,
   "metadata": {},
   "outputs": [
    {
     "data": {
      "text/plain": [
       "1179"
      ]
     },
     "execution_count": 38,
     "metadata": {},
     "output_type": "execute_result"
    }
   ],
   "source": [
    "len(misclassified)"
   ]
  },
  {
   "cell_type": "code",
   "execution_count": 47,
   "metadata": {},
   "outputs": [
    {
     "data": {
      "text/html": [
       "<div>\n",
       "<style scoped>\n",
       "    .dataframe tbody tr th:only-of-type {\n",
       "        vertical-align: middle;\n",
       "    }\n",
       "\n",
       "    .dataframe tbody tr th {\n",
       "        vertical-align: top;\n",
       "    }\n",
       "\n",
       "    .dataframe thead th {\n",
       "        text-align: right;\n",
       "    }\n",
       "</style>\n",
       "<table border=\"1\" class=\"dataframe\">\n",
       "  <thead>\n",
       "    <tr style=\"text-align: right;\">\n",
       "      <th></th>\n",
       "      <th>text</th>\n",
       "      <th>predicted</th>\n",
       "      <th>actual</th>\n",
       "      <th>actual_encode</th>\n",
       "    </tr>\n",
       "  </thead>\n",
       "  <tbody>\n",
       "    <tr>\n",
       "      <th>0</th>\n",
       "      <td>The food was not tasty. The only thing that was good there was the Moscow mule. I ate sesame chicken and it gave me a stomachache and I rarely get those.</td>\n",
       "      <td>pos</td>\n",
       "      <td>2.0</td>\n",
       "      <td>neg</td>\n",
       "    </tr>\n",
       "    <tr>\n",
       "      <th>1</th>\n",
       "      <td>Came here the other day and overheard a quiet conversation by the White heavy set lady working there saying \"if the Jews keep allowing al these n****rs and f****ts into Portland, I'm going to have to lock my doors\". Yeah... uhhhh.... not getting my business, sorry but no thanks. I'm just glad I get to write a Yelp review about it so that others can also make an informed decision on whether to support their business.</td>\n",
       "      <td>pos</td>\n",
       "      <td>1.0</td>\n",
       "      <td>neg</td>\n",
       "    </tr>\n",
       "    <tr>\n",
       "      <th>2</th>\n",
       "      <td>I know this is a sushi joint.... but you HAVE to order the fries!! Oh my gosh it's crisp not oily but covered generously in sauce!! Good portion for the price you pay. The only thing that was concerning was that I ordered a spicy tuna roll and I was told it will only take 5 minutes. At first I let the server know that's it's ok And I'll pass on the roll as I was dining with a group who was pretty much done eatting. The server reassured me that  my order would be second in line and it won't take long so I ended up ordering it. Unfortunately, the roll came 20 minutes later. It's no ones fault and I understand completely so I'm still going to give them 5 stars. The roll was worth the wait!</td>\n",
       "      <td>neg</td>\n",
       "      <td>5.0</td>\n",
       "      <td>pos</td>\n",
       "    </tr>\n",
       "    <tr>\n",
       "      <th>3</th>\n",
       "      <td>A great store to shop at they allow all customers  to shop thier and do not discriminate against military veterans in order to shop thier. They accost you for not wearing a mask</td>\n",
       "      <td>neg</td>\n",
       "      <td>5.0</td>\n",
       "      <td>pos</td>\n",
       "    </tr>\n",
       "    <tr>\n",
       "      <th>4</th>\n",
       "      <td>I just moved downtown and I heard about this spot for years. I finally got to try and and they nailed my lemon pepper hot wings. I had a failed attempt to get wings at TMac and was disappointed. This is my new wing spot!</td>\n",
       "      <td>neg</td>\n",
       "      <td>5.0</td>\n",
       "      <td>pos</td>\n",
       "    </tr>\n",
       "    <tr>\n",
       "      <th>5</th>\n",
       "      <td>My first time at this location,  very busy.  You have to wear a mask before you enter, and you sit yourself. They do have a bar area to sit at also.  Our waitress was so slow  on our order. Our wings came out fast and made correctly.  They were very salty. They potatoes dippers are good.  \\nFrench fries were not made fresh,  they sat under a light.  Potato dippers were made to order.  Asked for lemon in Sprite and never received and waitress didn't come back and check on us. \\n\\nThey don't clean their tables fast after customers so other customers are standing at the door to sit but no clean tables.  Security is at the door. Be careful because the will try to charge you to park on the right hand side of restaurant.</td>\n",
       "      <td>neg</td>\n",
       "      <td>5.0</td>\n",
       "      <td>pos</td>\n",
       "    </tr>\n",
       "    <tr>\n",
       "      <th>6</th>\n",
       "      <td>I'm not even sure if there was a hype to this place but I thought it was like any other drink/dessert/snack place. Even though I was the 2nd person in the shop, I still waited about 10 minutes for 2 drinks. I thought it was pretty slow but my drink turned out ok. I don't think this is staple for me to come back every time but glad there's something at Bridgeport.</td>\n",
       "      <td>neg</td>\n",
       "      <td>4.0</td>\n",
       "      <td>pos</td>\n",
       "    </tr>\n",
       "    <tr>\n",
       "      <th>7</th>\n",
       "      <td>I went in 5 minutes before closing. The guy behind the counter whined like a 5 year needing a nap for 2 minutes telling me I should have come in earlier. After whining about the repair for a minute and then reverting back to whining about coming in earlier, I walked out and drove to Newton to CTS computer who are the best and worth the drive.</td>\n",
       "      <td>pos</td>\n",
       "      <td>1.0</td>\n",
       "      <td>neg</td>\n",
       "    </tr>\n",
       "    <tr>\n",
       "      <th>8</th>\n",
       "      <td>I had used a different junk removal service at the beginning of clearing out all the stuff that was no longer needed.  First time they were great the second time it was a bunch of lazy guys .  I made it clear that I would not use them again.  I had been looking at the removal places that charge by weight and decided to try them.  I chose 505 Junk.  They were great.  They arrived on time , they were polite and friendly (nothing worse than hiring someone you will be paying and they are surly and rude and don't want to complete the task) I think it was always a different team and they were all excellent.  The weight factor was always a lot less $ than the other place that guessed how much to charge.  505 Junk weighs it on the truck.  A friend is moving and she has used them too, also very pleased with them.</td>\n",
       "      <td>neg</td>\n",
       "      <td>5.0</td>\n",
       "      <td>pos</td>\n",
       "    </tr>\n",
       "    <tr>\n",
       "      <th>9</th>\n",
       "      <td>Where is the shrimp in the shrimp fried rice?  For this price point, they really cheaped out. \\nWe also ordered pork belly rice which was OK, nothing special. Seems more like chopped up dark meat chicken than pork belly.\\nThe only good things were the tea eggs and pickled veggies.</td>\n",
       "      <td>pos</td>\n",
       "      <td>2.0</td>\n",
       "      <td>neg</td>\n",
       "    </tr>\n",
       "    <tr>\n",
       "      <th>10</th>\n",
       "      <td>The location and view of Back Bay and the Charles River from the 37th floor were outstanding!  Room decor is pleasing to the eye.  Comfortable and clean bed and room.  Bathroom felt luxurious.   The TV even has a Netflix option!  Cons:  I was promised access to a microwave upon confirmation of my reservation.  When I was in my room and needed to use it, I was denied access.  Very disappointing.  Cold food is no fun.  Only other complaint:  Rude, nasty spirited staff at reception overnight and at check out.</td>\n",
       "      <td>neg</td>\n",
       "      <td>4.0</td>\n",
       "      <td>pos</td>\n",
       "    </tr>\n",
       "    <tr>\n",
       "      <th>11</th>\n",
       "      <td>I LOVE True Food kitchen and the quality of their food. Honestly anything off of the menu is going to taste good and not make you feel gross and tired.</td>\n",
       "      <td>neg</td>\n",
       "      <td>5.0</td>\n",
       "      <td>pos</td>\n",
       "    </tr>\n",
       "    <tr>\n",
       "      <th>12</th>\n",
       "      <td>Stayed Saturday night for a quick getaway and a night out. I completely messed up the reservation and booked for Friday instead of Saturday! Dee at check in could not find my reservation but soon figured out my mistake. He could not have been any nicer about it and was able to get us another room at the same rate. Fantastic customer service from Dee and all the other staff we encountered.</td>\n",
       "      <td>neg</td>\n",
       "      <td>5.0</td>\n",
       "      <td>pos</td>\n",
       "    </tr>\n",
       "    <tr>\n",
       "      <th>13</th>\n",
       "      <td>Wow, this was great food. We ordered the big bowl it was enough for 2 people. You won't be disappointed.</td>\n",
       "      <td>neg</td>\n",
       "      <td>5.0</td>\n",
       "      <td>pos</td>\n",
       "    </tr>\n",
       "    <tr>\n",
       "      <th>14</th>\n",
       "      <td>I had an issue as you can see below. Things happen in business, they do with my business too. It absolutely shows the character of a company and how it is run when you get an immediate response to an issue. The President called me, emailed me, and reached out on Yelp. He was very apologetic and made it right with me. I feel confident that when there is a hiccup they will take care of it. I am very pleased!\\n\\n I had an appointment at 11:00 it is 2:30 on a gorgeous Saturday. I have been home all day waiting for service. Still no one.\\n\\nIt is now 4 hours from my appointment time. No call, no update. I called before they closed they said they were running late. It's not like they didn't know about my appointment. Very unhappy.\\n\\nHe finally showed, poor kid said he didn't know he was supposed to work. Totally get that, I've missed something for work too. If the office would have communicated I could have decided to leave and reschedule. There was no communication from anyone.</td>\n",
       "      <td>neg</td>\n",
       "      <td>5.0</td>\n",
       "      <td>pos</td>\n",
       "    </tr>\n",
       "    <tr>\n",
       "      <th>15</th>\n",
       "      <td>This place was JAM PACKED. I guess technically you might be 6 ft minimum from another person but you have a person in every single direction of you sitting 6 ft from your face to their face. Did not feel covid safe so we wore our masks the whole time until our meal came out then put them back on. Food was great and our server was super nice which is why I'm giving 4 stars because covid sucks and I dont want to base my review off pandemic practices because it feels unfair BUT it's important to note for people making reservations that this might not be the place during covid.</td>\n",
       "      <td>neg</td>\n",
       "      <td>4.0</td>\n",
       "      <td>pos</td>\n",
       "    </tr>\n",
       "    <tr>\n",
       "      <th>16</th>\n",
       "      <td>I've had my eyes on a pair of Bluntstone boots forever and I grew up with my parents taken us to REI!. It REALLY disappointed me to find out the newer management has changed from a Co-op of members who enjoy the outdoors and want to have access to high quality climbing gear and outdoor apparel at a reasonable price!. At least that's what it is SUPPOSED to be about. Unfortunately now it had turned into the typically overpriced, very UN-co-op like retail space.\\nThat being  said, the woman who works upstairs in shoes is WONDERFUL!!!!!. I should have written this review a while back when I bought my boots but better late than never!. SHE IS WHAT EVERY SALES PERSON SHOULD BE\\nIf REI still had the same a philosophy I would have given 5 stars......</td>\n",
       "      <td>neg</td>\n",
       "      <td>4.0</td>\n",
       "      <td>pos</td>\n",
       "    </tr>\n",
       "    <tr>\n",
       "      <th>17</th>\n",
       "      <td>It's annoying you can't pay over the phone every other restaurant u can makes absolutely no sense</td>\n",
       "      <td>neg</td>\n",
       "      <td>4.0</td>\n",
       "      <td>pos</td>\n",
       "    </tr>\n",
       "    <tr>\n",
       "      <th>18</th>\n",
       "      <td>I had previously gotten takeout from here and was pleased enough with the food to order again. Tonight I found myself disappointed with the quality. The crispy noodles with chicken was good. However, I also ordered the seafood and tofu soup. Last time I had the soup it was really tasty. This time I opened it and was immediately taken aback by the color of the tofu pieces. At first I wasn't sure if these were pieces of tofu, but indeed they are.\\n\\nI ate a bit of the soup but soon decided it wasn't worth the risk. I'm sad to have wasted $13. I truly appreciate that this restaurant has been open, and I can't imagine how difficult it is for them during a pandemic. I just hope that moving forward they check the quality of the food that they're serving for the safety of their customers.</td>\n",
       "      <td>pos</td>\n",
       "      <td>2.0</td>\n",
       "      <td>neg</td>\n",
       "    </tr>\n",
       "    <tr>\n",
       "      <th>19</th>\n",
       "      <td>Sadly, I'm changing this to a 2-Stars. Although the quality of the to-go only food is still great, it's VERY difficult to order it. The last three orders, made on an iPhone Xr were really a hassle. Who ever owns this restaurant should try to place an order with a smart phone as a guest. You'd probably consider changing the method for ordering after that. I'm not a technophobe. I have a Mac and PC, iPhone and Android phone. I'm online all day and work on my company website all the time. I asked the young woman ahead of me when I picked up my order (which I came within an inch of not bothering with) whether she'd had a problem and she did. So it's not just me. Fix the way you take online orders please.\\n\\nOriginal 5-Star Rating:\\nThis place is the first place I ever had Ramen (at the old location). You had to be prepared to wait, but the wait was worth it.\\n\\nThere's also a North location that I've been to as well. They moved the South location a while ago to a larger place with better parking. If you come during regular hours you should be prepared to wait though.\\n\\nRamen is a bowl of noodles and other things in broth. The broth is key. The pork bone broth at this place is out of this world. Just fabulous. On my last visit I had ground pork with various veggies in my Ramen. The richness of the broth made this an extremely memorable meal. Tasty, filling and quite reasonable.\\n\\nI enjoy the Ramen at Tatsu-Ya even more than the Ramen we had in Tokyo 2 years ago. Well worth a visit!</td>\n",
       "      <td>pos</td>\n",
       "      <td>2.0</td>\n",
       "      <td>neg</td>\n",
       "    </tr>\n",
       "  </tbody>\n",
       "</table>\n",
       "</div>"
      ],
      "text/plain": [
       "                                                                                                                                                                                                                                                                                                                                                                                                                                                                                                                                                                                                                                                                                                                                                                                                                                                                                                                                                                                                                                                                                                                                                                                                                                                                                                                                                                                                                                                                                                                                                               text  \\\n",
       "0                                                                                                                                                                                                                                                                                                                                                                                                                                                                                                                                                                                                                                                                                                                                                                                                                                                                                                                                                                                                                                                                                                                                                                                                                                                                                                                                                                                                         The food was not tasty. The only thing that was good there was the Moscow mule. I ate sesame chicken and it gave me a stomachache and I rarely get those.   \n",
       "1                                                                                                                                                                                                                                                                                                                                                                                                                                                                                                                                                                                                                                                                                                                                                                                                                                                                                                                                                                                                                                                                                                                               Came here the other day and overheard a quiet conversation by the White heavy set lady working there saying \"if the Jews keep allowing al these n****rs and f****ts into Portland, I'm going to have to lock my doors\". Yeah... uhhhh.... not getting my business, sorry but no thanks. I'm just glad I get to write a Yelp review about it so that others can also make an informed decision on whether to support their business.   \n",
       "2                                                                                                                                                                                                                                                                                                                                                                                                                                                                                                                                                                                                                                                                                                                                                                                                                                           I know this is a sushi joint.... but you HAVE to order the fries!! Oh my gosh it's crisp not oily but covered generously in sauce!! Good portion for the price you pay. The only thing that was concerning was that I ordered a spicy tuna roll and I was told it will only take 5 minutes. At first I let the server know that's it's ok And I'll pass on the roll as I was dining with a group who was pretty much done eatting. The server reassured me that  my order would be second in line and it won't take long so I ended up ordering it. Unfortunately, the roll came 20 minutes later. It's no ones fault and I understand completely so I'm still going to give them 5 stars. The roll was worth the wait!   \n",
       "3                                                                                                                                                                                                                                                                                                                                                                                                                                                                                                                                                                                                                                                                                                                                                                                                                                                                                                                                                                                                                                                                                                                                                                                                                                                                                                                                                                                 A great store to shop at they allow all customers  to shop thier and do not discriminate against military veterans in order to shop thier. They accost you for not wearing a mask   \n",
       "4                                                                                                                                                                                                                                                                                                                                                                                                                                                                                                                                                                                                                                                                                                                                                                                                                                                                                                                                                                                                                                                                                                                                                                                                                                                                                                                                      I just moved downtown and I heard about this spot for years. I finally got to try and and they nailed my lemon pepper hot wings. I had a failed attempt to get wings at TMac and was disappointed. This is my new wing spot!   \n",
       "5                                                                                                                                                                                                                                                                                                                                                                                                                                                                                                                                                                                                                                                                                                                                                                                                              My first time at this location,  very busy.  You have to wear a mask before you enter, and you sit yourself. They do have a bar area to sit at also.  Our waitress was so slow  on our order. Our wings came out fast and made correctly.  They were very salty. They potatoes dippers are good.  \\nFrench fries were not made fresh,  they sat under a light.  Potato dippers were made to order.  Asked for lemon in Sprite and never received and waitress didn't come back and check on us. \\n\\nThey don't clean their tables fast after customers so other customers are standing at the door to sit but no clean tables.  Security is at the door. Be careful because the will try to charge you to park on the right hand side of restaurant.   \n",
       "6                                                                                                                                                                                                                                                                                                                                                                                                                                                                                                                                                                                                                                                                                                                                                                                                                                                                                                                                                                                                                                                                                                                                                                                     I'm not even sure if there was a hype to this place but I thought it was like any other drink/dessert/snack place. Even though I was the 2nd person in the shop, I still waited about 10 minutes for 2 drinks. I thought it was pretty slow but my drink turned out ok. I don't think this is staple for me to come back every time but glad there's something at Bridgeport.   \n",
       "7                                                                                                                                                                                                                                                                                                                                                                                                                                                                                                                                                                                                                                                                                                                                                                                                                                                                                                                                                                                                                                                                                                                                                                                                          I went in 5 minutes before closing. The guy behind the counter whined like a 5 year needing a nap for 2 minutes telling me I should have come in earlier. After whining about the repair for a minute and then reverting back to whining about coming in earlier, I walked out and drove to Newton to CTS computer who are the best and worth the drive.   \n",
       "8                                                                                                                                                                                                                                                                                                                                                                                                                                                                                                                                                                                                                                                                                                                   I had used a different junk removal service at the beginning of clearing out all the stuff that was no longer needed.  First time they were great the second time it was a bunch of lazy guys .  I made it clear that I would not use them again.  I had been looking at the removal places that charge by weight and decided to try them.  I chose 505 Junk.  They were great.  They arrived on time , they were polite and friendly (nothing worse than hiring someone you will be paying and they are surly and rude and don't want to complete the task) I think it was always a different team and they were all excellent.  The weight factor was always a lot less $ than the other place that guessed how much to charge.  505 Junk weighs it on the truck.  A friend is moving and she has used them too, also very pleased with them.   \n",
       "9                                                                                                                                                                                                                                                                                                                                                                                                                                                                                                                                                                                                                                                                                                                                                                                                                                                                                                                                                                                                                                                                                                                                                                                                                                                                         Where is the shrimp in the shrimp fried rice?  For this price point, they really cheaped out. \\nWe also ordered pork belly rice which was OK, nothing special. Seems more like chopped up dark meat chicken than pork belly.\\nThe only good things were the tea eggs and pickled veggies.   \n",
       "10                                                                                                                                                                                                                                                                                                                                                                                                                                                                                                                                                                                                                                                                                                                                                                                                                                                                                                                                                                                                                                  The location and view of Back Bay and the Charles River from the 37th floor were outstanding!  Room decor is pleasing to the eye.  Comfortable and clean bed and room.  Bathroom felt luxurious.   The TV even has a Netflix option!  Cons:  I was promised access to a microwave upon confirmation of my reservation.  When I was in my room and needed to use it, I was denied access.  Very disappointing.  Cold food is no fun.  Only other complaint:  Rude, nasty spirited staff at reception overnight and at check out.   \n",
       "11                                                                                                                                                                                                                                                                                                                                                                                                                                                                                                                                                                                                                                                                                                                                                                                                                                                                                                                                                                                                                                                                                                                                                                                                                                                                                                                                                                                                          I LOVE True Food kitchen and the quality of their food. Honestly anything off of the menu is going to taste good and not make you feel gross and tired.   \n",
       "12                                                                                                                                                                                                                                                                                                                                                                                                                                                                                                                                                                                                                                                                                                                                                                                                                                                                                                                                                                                                                                                                                                                                                          Stayed Saturday night for a quick getaway and a night out. I completely messed up the reservation and booked for Friday instead of Saturday! Dee at check in could not find my reservation but soon figured out my mistake. He could not have been any nicer about it and was able to get us another room at the same rate. Fantastic customer service from Dee and all the other staff we encountered.   \n",
       "13                                                                                                                                                                                                                                                                                                                                                                                                                                                                                                                                                                                                                                                                                                                                                                                                                                                                                                                                                                                                                                                                                                                                                                                                                                                                                                                                                                                                                                                         Wow, this was great food. We ordered the big bowl it was enough for 2 people. You won't be disappointed.   \n",
       "14                                                                                                                                                                                                                                                                                                                                                                                                                                                                                                                                     I had an issue as you can see below. Things happen in business, they do with my business too. It absolutely shows the character of a company and how it is run when you get an immediate response to an issue. The President called me, emailed me, and reached out on Yelp. He was very apologetic and made it right with me. I feel confident that when there is a hiccup they will take care of it. I am very pleased!\\n\\n I had an appointment at 11:00 it is 2:30 on a gorgeous Saturday. I have been home all day waiting for service. Still no one.\\n\\nIt is now 4 hours from my appointment time. No call, no update. I called before they closed they said they were running late. It's not like they didn't know about my appointment. Very unhappy.\\n\\nHe finally showed, poor kid said he didn't know he was supposed to work. Totally get that, I've missed something for work too. If the office would have communicated I could have decided to leave and reschedule. There was no communication from anyone.   \n",
       "15                                                                                                                                                                                                                                                                                                                                                                                                                                                                                                                                                                                                                                                                                                                                                                                                                                                                                                                                                             This place was JAM PACKED. I guess technically you might be 6 ft minimum from another person but you have a person in every single direction of you sitting 6 ft from your face to their face. Did not feel covid safe so we wore our masks the whole time until our meal came out then put them back on. Food was great and our server was super nice which is why I'm giving 4 stars because covid sucks and I dont want to base my review off pandemic practices because it feels unfair BUT it's important to note for people making reservations that this might not be the place during covid.   \n",
       "16                                                                                                                                                                                                                                                                                                                                                                                                                                                                                                                                                                                                                                                                                                                                                                                 I've had my eyes on a pair of Bluntstone boots forever and I grew up with my parents taken us to REI!. It REALLY disappointed me to find out the newer management has changed from a Co-op of members who enjoy the outdoors and want to have access to high quality climbing gear and outdoor apparel at a reasonable price!. At least that's what it is SUPPOSED to be about. Unfortunately now it had turned into the typically overpriced, very UN-co-op like retail space.\\nThat being  said, the woman who works upstairs in shoes is WONDERFUL!!!!!. I should have written this review a while back when I bought my boots but better late than never!. SHE IS WHAT EVERY SALES PERSON SHOULD BE\\nIf REI still had the same a philosophy I would have given 5 stars......   \n",
       "17                                                                                                                                                                                                                                                                                                                                                                                                                                                                                                                                                                                                                                                                                                                                                                                                                                                                                                                                                                                                                                                                                                                                                                                                                                                                                                                                                                                                                                                                It's annoying you can't pay over the phone every other restaurant u can makes absolutely no sense   \n",
       "18                                                                                                                                                                                                                                                                                                                                                                                                                                                                                                                                                                                                                                                                                                                                         I had previously gotten takeout from here and was pleased enough with the food to order again. Tonight I found myself disappointed with the quality. The crispy noodles with chicken was good. However, I also ordered the seafood and tofu soup. Last time I had the soup it was really tasty. This time I opened it and was immediately taken aback by the color of the tofu pieces. At first I wasn't sure if these were pieces of tofu, but indeed they are.\\n\\nI ate a bit of the soup but soon decided it wasn't worth the risk. I'm sad to have wasted $13. I truly appreciate that this restaurant has been open, and I can't imagine how difficult it is for them during a pandemic. I just hope that moving forward they check the quality of the food that they're serving for the safety of their customers.   \n",
       "19  Sadly, I'm changing this to a 2-Stars. Although the quality of the to-go only food is still great, it's VERY difficult to order it. The last three orders, made on an iPhone Xr were really a hassle. Who ever owns this restaurant should try to place an order with a smart phone as a guest. You'd probably consider changing the method for ordering after that. I'm not a technophobe. I have a Mac and PC, iPhone and Android phone. I'm online all day and work on my company website all the time. I asked the young woman ahead of me when I picked up my order (which I came within an inch of not bothering with) whether she'd had a problem and she did. So it's not just me. Fix the way you take online orders please.\\n\\nOriginal 5-Star Rating:\\nThis place is the first place I ever had Ramen (at the old location). You had to be prepared to wait, but the wait was worth it.\\n\\nThere's also a North location that I've been to as well. They moved the South location a while ago to a larger place with better parking. If you come during regular hours you should be prepared to wait though.\\n\\nRamen is a bowl of noodles and other things in broth. The broth is key. The pork bone broth at this place is out of this world. Just fabulous. On my last visit I had ground pork with various veggies in my Ramen. The richness of the broth made this an extremely memorable meal. Tasty, filling and quite reasonable.\\n\\nI enjoy the Ramen at Tatsu-Ya even more than the Ramen we had in Tokyo 2 years ago. Well worth a visit!   \n",
       "\n",
       "   predicted  actual actual_encode  \n",
       "0        pos     2.0           neg  \n",
       "1        pos     1.0           neg  \n",
       "2        neg     5.0           pos  \n",
       "3        neg     5.0           pos  \n",
       "4        neg     5.0           pos  \n",
       "5        neg     5.0           pos  \n",
       "6        neg     4.0           pos  \n",
       "7        pos     1.0           neg  \n",
       "8        neg     5.0           pos  \n",
       "9        pos     2.0           neg  \n",
       "10       neg     4.0           pos  \n",
       "11       neg     5.0           pos  \n",
       "12       neg     5.0           pos  \n",
       "13       neg     5.0           pos  \n",
       "14       neg     5.0           pos  \n",
       "15       neg     4.0           pos  \n",
       "16       neg     4.0           pos  \n",
       "17       neg     4.0           pos  \n",
       "18       pos     2.0           neg  \n",
       "19       pos     2.0           neg  "
      ]
     },
     "execution_count": 47,
     "metadata": {},
     "output_type": "execute_result"
    }
   ],
   "source": [
    "misclassified.head(20)"
   ]
  }
 ],
 "metadata": {
  "anaconda-cloud": {},
  "kernelspec": {
   "display_name": "Python 3",
   "language": "python",
   "name": "python3"
  },
  "language_info": {
   "codemirror_mode": {
    "name": "ipython",
    "version": 3
   },
   "file_extension": ".py",
   "mimetype": "text/x-python",
   "name": "python",
   "nbconvert_exporter": "python",
   "pygments_lexer": "ipython3",
   "version": "3.8.5"
  }
 },
 "nbformat": 4,
 "nbformat_minor": 2
}
