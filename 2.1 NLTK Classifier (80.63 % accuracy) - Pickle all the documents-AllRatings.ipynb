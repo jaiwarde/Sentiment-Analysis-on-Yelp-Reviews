{
 "cells": [
  {
   "cell_type": "markdown",
   "metadata": {},
   "source": [
    "# Sentiment analysis by classifying reviews into 1,2,4 and 5 rating"
   ]
  },
  {
   "cell_type": "code",
   "execution_count": 1,
   "metadata": {},
   "outputs": [],
   "source": [
    "#import all the necessary libraries\n",
    "import pandas as pd\n",
    "import numpy as np\n",
    "import os\n",
    "import seaborn as sns\n",
    "import matplotlib.pyplot as plt\n",
    "import itertools\n",
    "\n",
    "from collections import defaultdict"
   ]
  },
  {
   "cell_type": "code",
   "execution_count": 2,
   "metadata": {},
   "outputs": [],
   "source": [
    "import nltk\n",
    "import random\n",
    "from nltk.classify.scikitlearn import SklearnClassifier\n",
    "import pickle\n",
    "from sklearn.naive_bayes import MultinomialNB, BernoulliNB\n",
    "from sklearn.linear_model import LogisticRegression, SGDClassifier\n",
    "from sklearn.svm import SVC, LinearSVC, NuSVC\n",
    "from nltk.classify import ClassifierI\n",
    "from statistics import mode\n",
    "from nltk.tokenize import word_tokenize\n",
    "from nltk.stem import PorterStemmer\n",
    "from nltk.tokenize import sent_tokenize, word_tokenize"
   ]
  },
  {
   "cell_type": "code",
   "execution_count": 3,
   "metadata": {},
   "outputs": [],
   "source": [
    "#import all the necessary csv files\n",
    "parent_dir = 'D:/DCU Documents/Semester 2/Data Analytics and Data Mining/Project/Kaggle Dataset/'\n",
    "\n",
    "path_dic = {\n",
    "            'B':parent_dir+'business_s.csv',\n",
    "            'R':parent_dir+'Review2021.csv',\n",
    "            'U':parent_dir+'U.csv',\n",
    "            'D':parent_dir+'documents.csv'\n",
    "           }\n",
    "\n",
    "documents = pd.read_csv(path_dic['D'])"
   ]
  },
  {
   "cell_type": "markdown",
   "metadata": {},
   "source": [
    "# NLTK"
   ]
  },
  {
   "cell_type": "code",
   "execution_count": 5,
   "metadata": {},
   "outputs": [],
   "source": [
    "save_documents = open(\"D:/DCU Documents/Semester 2/Data Analytics and Data Mining/Project/pickled_algos/documents.pickle\",\"wb\")\n",
    "pickle.dump(documents, save_documents)\n",
    "save_documents.close()"
   ]
  },
  {
   "cell_type": "code",
   "execution_count": 4,
   "metadata": {},
   "outputs": [
    {
     "name": "stdout",
     "output_type": "stream",
     "text": [
      "They can't manage to get online orders right and no one there answers the phone to be able to correct them. They don't even have a voicemail to leave a message.\n"
     ]
    }
   ],
   "source": [
    "print(documents.iloc[0][1])"
   ]
  },
  {
   "cell_type": "code",
   "execution_count": 5,
   "metadata": {},
   "outputs": [
    {
     "name": "stdout",
     "output_type": "stream",
     "text": [
      "['python', 'python', 'python', 'python', 'pythonli']\n"
     ]
    }
   ],
   "source": [
    "# We will use the stemmer to stem all the words\n",
    "ps = PorterStemmer()\n",
    "example_words = [\"python\",\"pythoner\",\"pythoning\",\"pythoned\",\"pythonly\"]\n",
    "\n",
    "print([ps.stem(w) for w in example_words])"
   ]
  },
  {
   "cell_type": "code",
   "execution_count": 11,
   "metadata": {},
   "outputs": [
    {
     "name": "stderr",
     "output_type": "stream",
     "text": [
      "[nltk_data] Downloading package stopwords to\n",
      "[nltk_data]     C:\\Users\\akhau\\AppData\\Roaming\\nltk_data...\n",
      "[nltk_data]   Unzipping corpora\\stopwords.zip.\n"
     ]
    },
    {
     "data": {
      "text/plain": [
       "True"
      ]
     },
     "execution_count": 11,
     "metadata": {},
     "output_type": "execute_result"
    }
   ],
   "source": [
    "#import nltk\n",
    "#nltk.download('stopwords')"
   ]
  },
  {
   "cell_type": "code",
   "execution_count": 6,
   "metadata": {},
   "outputs": [
    {
     "name": "stdout",
     "output_type": "stream",
     "text": [
      "This nonsense. I hate place. The food bad service terrible\n"
     ]
    }
   ],
   "source": [
    "from nltk.corpus import stopwords\n",
    " \n",
    "data = \"This is nonsense. I hate this place. The food is bad and the service is terrible\"\n",
    "stopWords = list(set(stopwords.words('english')))\n",
    "# stopWords[:5]\n",
    "print(' '.join([w for w in data.split() if w not in stopWords ]))"
   ]
  },
  {
   "cell_type": "code",
   "execution_count": 8,
   "metadata": {},
   "outputs": [],
   "source": [
    "documents.columns\n",
    "documents.drop(documents.columns[[0]], axis = 1, inplace = True)"
   ]
  },
  {
   "cell_type": "code",
   "execution_count": 9,
   "metadata": {},
   "outputs": [],
   "source": [
    "records = documents. to_records(index=False)\n",
    "result = list(records)\n",
    "#print(result)"
   ]
  },
  {
   "cell_type": "code",
   "execution_count": 10,
   "metadata": {},
   "outputs": [
    {
     "name": "stdout",
     "output_type": "stream",
     "text": [
      "[('the', 611940), ('and', 476996), ('i', 344674), ('to', 328368), ('a', 299903), ('wa', 234370), ('of', 169808), ('for', 152467), ('it', 151977), ('is', 145721), ('in', 141882), ('my', 133234), ('they', 117527), ('thi', 110457), ('with', 107695)]\n",
      "stupid appeared: 319 times\n"
     ]
    }
   ],
   "source": [
    "all_words = []\n",
    "\n",
    "for (t, star) in result:\n",
    "    for word in t.split():\n",
    "        w = word.lower().replace('.', '').replace(',', '').replace('!', '')\n",
    "        all_words.append(ps.stem(w))\n",
    "        \n",
    "all_words = nltk.FreqDist(all_words)\n",
    "print(all_words.most_common(15))\n",
    "print(\"stupid appeared: \" + str(all_words['stupid']) + \" times\")"
   ]
  },
  {
   "cell_type": "code",
   "execution_count": 11,
   "metadata": {},
   "outputs": [
    {
     "name": "stdout",
     "output_type": "stream",
     "text": [
      "['the', 'and', 'i', 'to', 'a', 'wa', 'of', 'for', 'it', 'is']\n"
     ]
    }
   ],
   "source": [
    "words_features = [s for (s,_) in list(all_words.most_common(5000))]\n",
    "\n",
    "save_word_features = open(\"D:/DCU Documents/Semester 2/Data Analytics and Data Mining/Project/pickled_algos/word_features5k.pickle\",\"wb\")\n",
    "pickle.dump(words_features, save_word_features)\n",
    "save_word_features.close()\n",
    "\n",
    "print(words_features[:10])"
   ]
  },
  {
   "cell_type": "code",
   "execution_count": 12,
   "metadata": {},
   "outputs": [
    {
     "name": "stdout",
     "output_type": "stream",
     "text": [
      "({'onlin': True, 'be': True, 'correct': True, 'no': True, 'right': True, 'to': True, 'voicemail': True, 'there': True, 'get': True, \"don't\": True, 'answer': True, 'one': True, 'abl': True, 'a': True, 'messag': True, 'order': True, 'they': True, 'manag': True, 'phone': True, 'even': True, 'and': True, \"can't\": True, 'have': True, 'the': True, 'them': True, 'leav': True}, 1.0)\n"
     ]
    }
   ],
   "source": [
    "documents = result\n",
    "def find_features(document):\n",
    "    words = set(document.split())\n",
    "    features = {}\n",
    "    for w in words:\n",
    "        w = w.lower().replace('.', '').replace(',', '').replace('!', '')\n",
    "        w = ps.stem(w)\n",
    "        features[w] = (w in words_features)\n",
    "    return features\n",
    "\n",
    "featuresets = [(find_features(doc), star) for (doc,star) in documents]\n",
    "\n",
    "print(featuresets[0])"
   ]
  },
  {
   "cell_type": "code",
   "execution_count": 13,
   "metadata": {},
   "outputs": [
    {
     "data": {
      "text/plain": [
       "134530"
      ]
     },
     "execution_count": 13,
     "metadata": {},
     "output_type": "execute_result"
    }
   ],
   "source": [
    "len(featuresets)"
   ]
  },
  {
   "cell_type": "code",
   "execution_count": 21,
   "metadata": {},
   "outputs": [
    {
     "name": "stdout",
     "output_type": "stream",
     "text": [
      "pos rate:  0.7314640407556647\n",
      "len of temp:  125823\n"
     ]
    }
   ],
   "source": [
    "# POS to NEG encode\n",
    "temp = []\n",
    "pos_count = 0\n",
    "for i in range(len(featuresets)):\n",
    "    if featuresets[i][1] == 1:\n",
    "        temp.append((featuresets[i][0], '1'))\n",
    "    elif featuresets[i][1] == 2:\n",
    "        temp.append((featuresets[i][0], '2'))\n",
    "   # elif featuresets[i][1] == 3:\n",
    "    #    temp.append((featuresets[i][0], '3'))\n",
    "    elif featuresets[i][1] == 4:\n",
    "        temp.append((featuresets[i][0], '4'))\n",
    "        pos_count = pos_count + 1\n",
    "    elif featuresets[i][1] == 5:\n",
    "        temp.append((featuresets[i][0], '5'))\n",
    "        pos_count = pos_count + 1\n",
    "print(\"pos rate: \", pos_count / len(temp))\n",
    "print(\"len of temp: \", len(temp))"
   ]
  },
  {
   "cell_type": "markdown",
   "metadata": {},
   "source": [
    "# Trying out some clfs"
   ]
  },
  {
   "cell_type": "code",
   "execution_count": 22,
   "metadata": {},
   "outputs": [
    {
     "name": "stdout",
     "output_type": "stream",
     "text": [
      "100658\n",
      "25165\n"
     ]
    }
   ],
   "source": [
    "training_set = temp[:100658]\n",
    "testing_set = temp[100658:]\n",
    "\n",
    "print(len(training_set))\n",
    "print(len(testing_set))"
   ]
  },
  {
   "cell_type": "code",
   "execution_count": 23,
   "metadata": {},
   "outputs": [
    {
     "name": "stdout",
     "output_type": "stream",
     "text": [
      "Naive Bayes Classifier accuracy:  33.177031591496124\n",
      "Most Informative Features\n",
      "                  racist = True                1 : 5      =    296.2 : 1.0\n",
      "                incompet = True                1 : 5      =    272.7 : 1.0\n",
      "                 disgust = True                1 : 5      =    215.9 : 1.0\n",
      "            unprofession = True                1 : 4      =    215.1 : 1.0\n",
      "                  rudest = True                1 : 5      =    195.9 : 1.0\n",
      "                unaccept = True                1 : 5      =    159.6 : 1.0\n",
      "                  violat = True                1 : 5      =    159.2 : 1.0\n",
      "                   audac = True                1 : 5      =    139.9 : 1.0\n",
      "                 fraudul = True                1 : 5      =    130.3 : 1.0\n",
      "               tasteless = True                2 : 5      =    119.0 : 1.0\n",
      "                    scam = True                1 : 5      =    117.5 : 1.0\n",
      "                     bbb = True                1 : 5      =     99.7 : 1.0\n",
      "                unseason = False               2 : 5      =     98.1 : 1.0\n",
      "               blatantli = False               1 : 5      =     97.5 : 1.0\n",
      "                 disgrac = True                1 : 5      =     96.7 : 1.0\n"
     ]
    }
   ],
   "source": [
    "np.random.seed(4747)\n",
    "\n",
    "clf = nltk.NaiveBayesClassifier.train(training_set)\n",
    "print(\"Naive Bayes Classifier accuracy: \", nltk.classify.accuracy(clf, testing_set) * 100)\n",
    "clf.show_most_informative_features(15)"
   ]
  },
  {
   "cell_type": "markdown",
   "metadata": {},
   "source": [
    "## Combing multiple classifiers"
   ]
  },
  {
   "cell_type": "code",
   "execution_count": 54,
   "metadata": {},
   "outputs": [
    {
     "name": "stdout",
     "output_type": "stream",
     "text": [
      "Original Naive Bayes Algo accuracy percent: 33.177031591496124\n",
      "Most Informative Features\n",
      "                  racist = True                1 : 5      =    296.2 : 1.0\n",
      "                incompet = True                1 : 5      =    272.7 : 1.0\n",
      "                 disgust = True                1 : 5      =    215.9 : 1.0\n",
      "            unprofession = True                1 : 4      =    215.1 : 1.0\n",
      "                  rudest = True                1 : 5      =    195.9 : 1.0\n",
      "                unaccept = True                1 : 5      =    159.6 : 1.0\n",
      "                  violat = True                1 : 5      =    159.2 : 1.0\n",
      "                   audac = True                1 : 5      =    139.9 : 1.0\n",
      "                 fraudul = True                1 : 5      =    130.3 : 1.0\n",
      "               tasteless = True                2 : 5      =    119.0 : 1.0\n",
      "                    scam = True                1 : 5      =    117.5 : 1.0\n",
      "                     bbb = True                1 : 5      =     99.7 : 1.0\n",
      "                unseason = False               2 : 5      =     98.1 : 1.0\n",
      "               blatantli = False               1 : 5      =     97.5 : 1.0\n",
      "                 disgrac = True                1 : 5      =     96.7 : 1.0\n",
      "MNB_classifier accuracy percent: 76.7574011523942\n",
      "BernoulliNB_classifier accuracy percent: 67.60977548182\n",
      "LogisticRegression_classifier accuracy percent: 80.61990860321876\n",
      "LinearSVC_classifier accuracy percent: 80.52453804887742\n",
      "SGDClassifier accuracy percent: 81.0053645936817\n"
     ]
    }
   ],
   "source": [
    "classifier = nltk.NaiveBayesClassifier.train(training_set)\n",
    "print(\"Original Naive Bayes Algo accuracy percent:\", (nltk.classify.accuracy(classifier, testing_set))*100)\n",
    "classifier.show_most_informative_features(15)\n",
    "\n",
    "save_classifier = open(\"D:/DCU Documents/Semester 2/Data Analytics and Data Mining/Project/pickled_algos/originalnaivebayes5k_AllRatings.pickle\",\"wb\")\n",
    "pickle.dump(classifier, save_classifier)\n",
    "save_classifier.close()\n",
    "\n",
    "MNB_classifier = SklearnClassifier(MultinomialNB())\n",
    "MNB_classifier.train(training_set)\n",
    "print(\"MNB_classifier accuracy percent:\", (nltk.classify.accuracy(MNB_classifier, testing_set))*100)\n",
    "\n",
    "save_classifier = open(\"D:/DCU Documents/Semester 2/Data Analytics and Data Mining/Project/pickled_algos/MNB_classifier5k_AllRatings.pickle\",\"wb\")\n",
    "pickle.dump(MNB_classifier, save_classifier)\n",
    "save_classifier.close()\n",
    "\n",
    "BernoulliNB_classifier = SklearnClassifier(BernoulliNB())\n",
    "BernoulliNB_classifier.train(training_set)\n",
    "print(\"BernoulliNB_classifier accuracy percent:\", (nltk.classify.accuracy(BernoulliNB_classifier, testing_set))*100)\n",
    "\n",
    "save_classifier = open(\"D:/DCU Documents/Semester 2/Data Analytics and Data Mining/Project/pickled_algos/BernoulliNB_classifier5k_AllRatings.pickle\",\"wb\")\n",
    "pickle.dump(BernoulliNB_classifier, save_classifier)\n",
    "save_classifier.close()\n",
    "\n",
    "LogisticRegression_classifier = SklearnClassifier(LogisticRegression(max_iter=1200000))\n",
    "LogisticRegression_classifier.train(training_set)\n",
    "print(\"LogisticRegression_classifier accuracy percent:\", (nltk.classify.accuracy(LogisticRegression_classifier, testing_set))*100)\n",
    "\n",
    "save_classifier = open(\"D:/DCU Documents/Semester 2/Data Analytics and Data Mining/Project/pickled_algos/LogisticRegression_classifier5k_AllRatings.pickle\",\"wb\")\n",
    "pickle.dump(LogisticRegression_classifier, save_classifier)\n",
    "save_classifier.close()\n",
    "\n",
    "LinearSVC_classifier = SklearnClassifier(LinearSVC(max_iter=1200000))\n",
    "LinearSVC_classifier.train(training_set)\n",
    "print(\"LinearSVC_classifier accuracy percent:\", (nltk.classify.accuracy(LinearSVC_classifier, testing_set))*100)\n",
    "\n",
    "save_classifier = open(\"D:/DCU Documents/Semester 2/Data Analytics and Data Mining/Project/pickled_algos/LinearSVC_classifier5k_AllRatings.pickle\",\"wb\")\n",
    "pickle.dump(LinearSVC_classifier, save_classifier)\n",
    "save_classifier.close()\n",
    "\n",
    "SGDC_classifier = SklearnClassifier(SGDClassifier())\n",
    "SGDC_classifier.train(training_set)\n",
    "print(\"SGDClassifier accuracy percent:\",nltk.classify.accuracy(SGDC_classifier, testing_set)*100)\n",
    "\n",
    "save_classifier = open(\"D:/DCU Documents/Semester 2/Data Analytics and Data Mining/Project/pickled_algos/SGDC_classifier5k_AllRatings.pickle\",\"wb\")\n",
    "pickle.dump(SGDC_classifier, save_classifier)\n",
    "save_classifier.close()"
   ]
  },
  {
   "cell_type": "markdown",
   "metadata": {},
   "source": [
    "Now let's combine the clfs！"
   ]
  },
  {
   "cell_type": "code",
   "execution_count": 25,
   "metadata": {},
   "outputs": [
    {
     "name": "stdout",
     "output_type": "stream",
     "text": [
      "voted_classifier accuracy percent: 80.63182992251143\n"
     ]
    }
   ],
   "source": [
    "class VoteClassifier(ClassifierI):\n",
    "    def __init__(self, *classifiers):\n",
    "        self._classifiers = classifiers\n",
    "\n",
    "    def classify(self, features):\n",
    "        votes = []\n",
    "        for c in self._classifiers:\n",
    "            v = c.classify(features)\n",
    "            votes.append(v)\n",
    "        return mode(votes)\n",
    "\n",
    "    def confidence(self, features):\n",
    "        votes = []\n",
    "        for c in self._classifiers:\n",
    "            v = c.classify(features)\n",
    "            votes.append(v)\n",
    "\n",
    "        chosen_class = votes.count(mode(votes))\n",
    "        return chosen_class / len(votes)\n",
    "    \n",
    "voted_classifier = VoteClassifier(MNB_classifier,\n",
    "                                  LogisticRegression_classifier, \n",
    "                                  LinearSVC_classifier) \n",
    "#                                   MNB_classifier, \n",
    "#                                   NuSVC_classifier)\n",
    "print(\"voted_classifier accuracy percent:\", (nltk.classify.accuracy(voted_classifier, testing_set))*100)\n"
   ]
  },
  {
   "cell_type": "markdown",
   "metadata": {},
   "source": [
    "80.63 % accuracy"
   ]
  },
  {
   "cell_type": "code",
   "execution_count": 26,
   "metadata": {},
   "outputs": [],
   "source": [
    "def sentiment(text):\n",
    "    feats = find_features(text)\n",
    "    return voted_classifier.classify(feats),voted_classifier.confidence(feats)"
   ]
  },
  {
   "cell_type": "markdown",
   "metadata": {},
   "source": [
    "# Looking at the misclassified ones..."
   ]
  },
  {
   "cell_type": "code",
   "execution_count": 27,
   "metadata": {
    "scrolled": true
   },
   "outputs": [
    {
     "data": {
      "text/html": [
       "<div>\n",
       "<style scoped>\n",
       "    .dataframe tbody tr th:only-of-type {\n",
       "        vertical-align: middle;\n",
       "    }\n",
       "\n",
       "    .dataframe tbody tr th {\n",
       "        vertical-align: top;\n",
       "    }\n",
       "\n",
       "    .dataframe thead th {\n",
       "        text-align: right;\n",
       "    }\n",
       "</style>\n",
       "<table border=\"1\" class=\"dataframe\">\n",
       "  <thead>\n",
       "    <tr style=\"text-align: right;\">\n",
       "      <th></th>\n",
       "      <th>text</th>\n",
       "      <th>confidence</th>\n",
       "      <th>predicted</th>\n",
       "      <th>actual</th>\n",
       "    </tr>\n",
       "  </thead>\n",
       "  <tbody>\n",
       "    <tr>\n",
       "      <th>0</th>\n",
       "      <td>I got Castaways via Uber eats, and let me tell...</td>\n",
       "      <td>1.000000</td>\n",
       "      <td>5</td>\n",
       "      <td>5.0</td>\n",
       "    </tr>\n",
       "    <tr>\n",
       "      <th>1</th>\n",
       "      <td>We ordered via Ubereats, from Castaway's Sport...</td>\n",
       "      <td>1.000000</td>\n",
       "      <td>4</td>\n",
       "      <td>5.0</td>\n",
       "    </tr>\n",
       "    <tr>\n",
       "      <th>2</th>\n",
       "      <td>This was a cool little spot with great food fo...</td>\n",
       "      <td>0.666667</td>\n",
       "      <td>5</td>\n",
       "      <td>5.0</td>\n",
       "    </tr>\n",
       "    <tr>\n",
       "      <th>3</th>\n",
       "      <td>I went here from a recommendation about their ...</td>\n",
       "      <td>1.000000</td>\n",
       "      <td>5</td>\n",
       "      <td>5.0</td>\n",
       "    </tr>\n",
       "    <tr>\n",
       "      <th>4</th>\n",
       "      <td>On a cold night a little hot pho always sounds...</td>\n",
       "      <td>1.000000</td>\n",
       "      <td>4</td>\n",
       "      <td>4.0</td>\n",
       "    </tr>\n",
       "  </tbody>\n",
       "</table>\n",
       "</div>"
      ],
      "text/plain": [
       "                                                text  confidence predicted  \\\n",
       "0  I got Castaways via Uber eats, and let me tell...    1.000000         5   \n",
       "1  We ordered via Ubereats, from Castaway's Sport...    1.000000         4   \n",
       "2  This was a cool little spot with great food fo...    0.666667         5   \n",
       "3  I went here from a recommendation about their ...    1.000000         5   \n",
       "4  On a cold night a little hot pho always sounds...    1.000000         4   \n",
       "\n",
       "   actual  \n",
       "0     5.0  \n",
       "1     5.0  \n",
       "2     5.0  \n",
       "3     5.0  \n",
       "4     4.0  "
      ]
     },
     "execution_count": 27,
     "metadata": {},
     "output_type": "execute_result"
    }
   ],
   "source": [
    "res = defaultdict(list)\n",
    "\n",
    "# take the test set\n",
    "temp_documents = documents[100658:]\n",
    "\n",
    "for i in range(len(temp_documents)):\n",
    "    pred, conf = sentiment(temp_documents[i][0])\n",
    "    res['text'].append(temp_documents[i][0])\n",
    "    res['confidence'].append(conf)\n",
    "    res['predicted'].append(pred)\n",
    "    res['actual'].append(temp_documents[i][1])\n",
    "res = pd.DataFrame(res)\n",
    "res.head()"
   ]
  },
  {
   "cell_type": "code",
   "execution_count": 45,
   "metadata": {},
   "outputs": [
    {
     "name": "stdout",
     "output_type": "stream",
     "text": [
      "<class 'numpy.int64'>\n",
      "<class 'numpy.float64'>\n",
      "True\n"
     ]
    }
   ],
   "source": [
    "res['predicted'] = pd.to_numeric(res['predicted'])\n",
    "res['actual'] = pd.to_numeric(res['actual'])\n",
    "print(type(res['predicted'][2]))\n",
    "print(type(res['actual'][1]))\n",
    "print(res['predicted'][2] == res['actual'][1])"
   ]
  },
  {
   "cell_type": "code",
   "execution_count": 46,
   "metadata": {},
   "outputs": [
    {
     "data": {
      "text/html": [
       "<div>\n",
       "<style scoped>\n",
       "    .dataframe tbody tr th:only-of-type {\n",
       "        vertical-align: middle;\n",
       "    }\n",
       "\n",
       "    .dataframe tbody tr th {\n",
       "        vertical-align: top;\n",
       "    }\n",
       "\n",
       "    .dataframe thead th {\n",
       "        text-align: right;\n",
       "    }\n",
       "</style>\n",
       "<table border=\"1\" class=\"dataframe\">\n",
       "  <thead>\n",
       "    <tr style=\"text-align: right;\">\n",
       "      <th></th>\n",
       "      <th>text</th>\n",
       "      <th>confidence</th>\n",
       "      <th>predicted</th>\n",
       "      <th>actual</th>\n",
       "      <th>actual_encode</th>\n",
       "    </tr>\n",
       "  </thead>\n",
       "  <tbody>\n",
       "    <tr>\n",
       "      <th>0</th>\n",
       "      <td>I got Castaways via Uber eats, and let me tell...</td>\n",
       "      <td>1.000000</td>\n",
       "      <td>5</td>\n",
       "      <td>5.0</td>\n",
       "      <td>5.0</td>\n",
       "    </tr>\n",
       "    <tr>\n",
       "      <th>1</th>\n",
       "      <td>We ordered via Ubereats, from Castaway's Sport...</td>\n",
       "      <td>1.000000</td>\n",
       "      <td>4</td>\n",
       "      <td>5.0</td>\n",
       "      <td>5.0</td>\n",
       "    </tr>\n",
       "    <tr>\n",
       "      <th>2</th>\n",
       "      <td>This was a cool little spot with great food fo...</td>\n",
       "      <td>0.666667</td>\n",
       "      <td>5</td>\n",
       "      <td>5.0</td>\n",
       "      <td>5.0</td>\n",
       "    </tr>\n",
       "    <tr>\n",
       "      <th>3</th>\n",
       "      <td>I went here from a recommendation about their ...</td>\n",
       "      <td>1.000000</td>\n",
       "      <td>5</td>\n",
       "      <td>5.0</td>\n",
       "      <td>5.0</td>\n",
       "    </tr>\n",
       "    <tr>\n",
       "      <th>4</th>\n",
       "      <td>On a cold night a little hot pho always sounds...</td>\n",
       "      <td>1.000000</td>\n",
       "      <td>4</td>\n",
       "      <td>4.0</td>\n",
       "      <td>5.0</td>\n",
       "    </tr>\n",
       "  </tbody>\n",
       "</table>\n",
       "</div>"
      ],
      "text/plain": [
       "                                                text  confidence  predicted  \\\n",
       "0  I got Castaways via Uber eats, and let me tell...    1.000000          5   \n",
       "1  We ordered via Ubereats, from Castaway's Sport...    1.000000          4   \n",
       "2  This was a cool little spot with great food fo...    0.666667          5   \n",
       "3  I went here from a recommendation about their ...    1.000000          5   \n",
       "4  On a cold night a little hot pho always sounds...    1.000000          4   \n",
       "\n",
       "   actual actual_encode  \n",
       "0     5.0           5.0  \n",
       "1     5.0           5.0  \n",
       "2     5.0           5.0  \n",
       "3     5.0           5.0  \n",
       "4     4.0           5.0  "
      ]
     },
     "execution_count": 46,
     "metadata": {},
     "output_type": "execute_result"
    }
   ],
   "source": [
    "res.head()"
   ]
  },
  {
   "cell_type": "code",
   "execution_count": 49,
   "metadata": {},
   "outputs": [
    {
     "name": "stdout",
     "output_type": "stream",
     "text": [
      "number of misclassifications:  5856\n",
      "misclassification rate:  0.17288615965989607\n"
     ]
    },
    {
     "data": {
      "text/html": [
       "<div>\n",
       "<style scoped>\n",
       "    .dataframe tbody tr th:only-of-type {\n",
       "        vertical-align: middle;\n",
       "    }\n",
       "\n",
       "    .dataframe tbody tr th {\n",
       "        vertical-align: top;\n",
       "    }\n",
       "\n",
       "    .dataframe thead th {\n",
       "        text-align: right;\n",
       "    }\n",
       "</style>\n",
       "<table border=\"1\" class=\"dataframe\">\n",
       "  <thead>\n",
       "    <tr style=\"text-align: right;\">\n",
       "      <th></th>\n",
       "      <th>text</th>\n",
       "      <th>confidence</th>\n",
       "      <th>predicted</th>\n",
       "      <th>actual</th>\n",
       "      <th>actual_encode</th>\n",
       "    </tr>\n",
       "  </thead>\n",
       "  <tbody>\n",
       "    <tr>\n",
       "      <th>0</th>\n",
       "      <td>We ordered via Ubereats, from Castaway's Sport...</td>\n",
       "      <td>1.000000</td>\n",
       "      <td>4</td>\n",
       "      <td>5.0</td>\n",
       "      <td>5.0</td>\n",
       "    </tr>\n",
       "    <tr>\n",
       "      <th>1</th>\n",
       "      <td>The pies are good, but I was very disappointed...</td>\n",
       "      <td>0.333333</td>\n",
       "      <td>1</td>\n",
       "      <td>2.0</td>\n",
       "      <td>2.0</td>\n",
       "    </tr>\n",
       "    <tr>\n",
       "      <th>2</th>\n",
       "      <td>This place is a hidden gem.  We were searching...</td>\n",
       "      <td>0.666667</td>\n",
       "      <td>4</td>\n",
       "      <td>5.0</td>\n",
       "      <td>5.0</td>\n",
       "    </tr>\n",
       "    <tr>\n",
       "      <th>3</th>\n",
       "      <td>I was told that this place had good soul food....</td>\n",
       "      <td>0.666667</td>\n",
       "      <td>5</td>\n",
       "      <td>1.0</td>\n",
       "      <td>1.0</td>\n",
       "    </tr>\n",
       "    <tr>\n",
       "      <th>4</th>\n",
       "      <td>The food was okay not that hot \\nThem cakes ar...</td>\n",
       "      <td>0.666667</td>\n",
       "      <td>1</td>\n",
       "      <td>2.0</td>\n",
       "      <td>2.0</td>\n",
       "    </tr>\n",
       "  </tbody>\n",
       "</table>\n",
       "</div>"
      ],
      "text/plain": [
       "                                                text  confidence  predicted  \\\n",
       "0  We ordered via Ubereats, from Castaway's Sport...    1.000000          4   \n",
       "1  The pies are good, but I was very disappointed...    0.333333          1   \n",
       "2  This place is a hidden gem.  We were searching...    0.666667          4   \n",
       "3  I was told that this place had good soul food....    0.666667          5   \n",
       "4  The food was okay not that hot \\nThem cakes ar...    0.666667          1   \n",
       "\n",
       "   actual  actual_encode  \n",
       "0     5.0            5.0  \n",
       "1     2.0            2.0  \n",
       "2     5.0            5.0  \n",
       "3     1.0            1.0  \n",
       "4     2.0            2.0  "
      ]
     },
     "execution_count": 49,
     "metadata": {},
     "output_type": "execute_result"
    }
   ],
   "source": [
    "res['actual_encode'] = np.where(res['actual'] == 5.0, 5.0, np.where(res['actual'] == 4.0, 4.0,np.where(res['actual'] == 1.0,1.0,2.0)))\n",
    "\n",
    "misclassified = res[res['actual_encode'] != res['predicted']]\n",
    "misclassified = misclassified[misclassified['actual']!=3]\n",
    "misclassified.index = range(len(misclassified))\n",
    "print(\"number of misclassifications: \", len(misclassified))\n",
    "print(\"misclassification rate: \", len(misclassified) / len(temp_documents))\n",
    "misclassified.head()"
   ]
  },
  {
   "cell_type": "code",
   "execution_count": 50,
   "metadata": {},
   "outputs": [],
   "source": [
    "def plot_confusion_matrix(cm, classes,\n",
    "                          normalize=False,\n",
    "                          title='Confusion matrix',\n",
    "                          cmap=plt.cm.Blues):\n",
    "    \"\"\"\n",
    "    This function prints and plots the confusion matrix.\n",
    "    Normalization can be applied by setting `normalize=True`.\n",
    "    \"\"\"\n",
    "    if normalize:\n",
    "        cm = cm.astype('float') / cm.sum(axis=1)[:, np.newaxis]\n",
    "        print(\"Normalized confusion matrix\")\n",
    "    else:\n",
    "        print('Confusion matrix, without normalization')\n",
    "\n",
    "    print(cm)\n",
    "\n",
    "    plt.imshow(cm, interpolation='nearest', cmap=cmap)\n",
    "    plt.title(title)\n",
    "    plt.colorbar()\n",
    "    tick_marks = np.arange(len(classes))\n",
    "    plt.xticks(tick_marks, classes, rotation=45)\n",
    "    plt.yticks(tick_marks, classes)\n",
    "\n",
    "    fmt = '.2f' if normalize else 'd'\n",
    "    thresh = cm.max() / 2.\n",
    "    for i, j in itertools.product(range(cm.shape[0]), range(cm.shape[1])):\n",
    "        plt.text(j, i, format(cm[i, j], fmt),\n",
    "                 horizontalalignment=\"center\",\n",
    "                 color=\"white\" if cm[i, j] > thresh else \"black\")\n",
    "\n",
    "    plt.tight_layout()\n",
    "    plt.ylabel('True label')\n",
    "    plt.xlabel('Predicted label')"
   ]
  },
  {
   "cell_type": "code",
   "execution_count": 52,
   "metadata": {},
   "outputs": [
    {
     "name": "stdout",
     "output_type": "stream",
     "text": [
      "Normalized confusion matrix\n",
      "[[0.89833779 0.04274265 0.01261502 0.04630454]\n",
      " [0.36085188 0.21966978 0.2275664  0.19191194]\n",
      " [0.02946814 0.01868711 0.35649257 0.59535218]\n",
      " [0.01235291 0.00149087 0.03807039 0.94808583]]\n"
     ]
    },
    {
     "data": {
      "image/png": "[encoded data removed]",
      "text/plain": [
       "<Figure size 432x288 with 2 Axes>"
      ]
     },
     "metadata": {
      "needs_background": "light"
     },
     "output_type": "display_data"
    }
   ],
   "source": [
    "from sklearn import metrics\n",
    "y_test = res['actual_encode']\n",
    "y_pred = res['predicted']\n",
    "class_names = [1.0, 2.0,4.0,5.0]\n",
    "\n",
    "\n",
    "# Compute confusion matrix\n",
    "cnf_matrix = metrics.confusion_matrix(y_test, y_pred)\n",
    "\n",
    "# Plot normalized confusion matrix\n",
    "plt.figure()\n",
    "plot_confusion_matrix(cnf_matrix, classes=class_names, normalize=True,\n",
    "                      title='Normalized confusion matrix')\n",
    "\n",
    "plt.show()"
   ]
  },
  {
   "cell_type": "code",
   "execution_count": 53,
   "metadata": {},
   "outputs": [
    {
     "name": "stdout",
     "output_type": "stream",
     "text": [
      "The pies are good, but I was very disappointed with the service and COVID-19 procedures. The pick-up process was slow and inefficient, and there is no distinction between people who ordered online or are placing orders in person, so ordering ahead did not appear to save me any time. The lines and spots marked for \"social distancing\" do not actually allow for social distancing because it winds back and forth. If everyone stood in the marked spot, I would essentially be standing right next to someone, so I did not feel very comfortable being asked to do so. While I was waiting for the cashier to finish entering another order in order to get mine, another employee started serving another customer and retrieving their pies before retrieving mine, which felt inefficient in terms of moving people through the line. It felt very disorganized and I believe more procedures can be put in place to streamline the pick-up process to ensure as little contact and waiting indoors as possible during COVID.\n",
      "\n",
      "{'stood': True, 'be': True, 'start': True, 'finish': True, 'do': True, 'feel': True, 'procedur': True, 'serv': True, 'between': True, 'to': True, 'line': True, 'employe': True, 'indoor': True, 'me': True, 'get': True, 'appear': True, 'distinct': True, 'save': True, 'covid-19': True, 'slow': True, 'order': True, 'servic': True, 'ineffici': False, 'term': True, 'possibl': True, 'the': True, 'littl': True, 'and': True, 'it': True, 'someon': True, 'onlin': True, 'place': True, 'cashier': True, 'ahead': True, 'mark': True, 'spot': True, 'disappoint': True, 'wait': True, 'custom': True, 'retriev': True, 'is': True, 'mine': True, 'if': True, 'not': True, 'distanc': True, 'put': True, 'next': True, 'i': True, 'while': True, 'felt': True, 'disorgan': True, 'did': True, 'covid': True, 'everyon': True, 'befor': True, 'believ': True, 'ani': True, 'but': True, 'allow': True, 'there': True, 'contact': True, 'ensur': True, 'pick-up': True, 'distancing\"': False, 'process': True, 'through': True, 'or': True, 'more': True, 'streamlin': False, '\"social': False, 'time': True, 'in': True, 'pie': True, 'for': True, 'enter': True, 'who': True, 'wind': True, 'back': True, 'person': True, 'with': True, 'as': True, 'of': True, 'move': True, 'stand': True, 'no': True, 'dure': True, 'comfort': True, 'right': True, 'are': True, 'wa': True, 'social': True, 'veri': True, 'becaus': True, 'would': True, 'ask': True, 'essenti': True, 'so': True, 'can': True, 'forth': True, 'anoth': True, 'actual': True, 'their': True, 'good': True, 'which': True, 'peopl': True}\n"
     ]
    }
   ],
   "source": [
    "print(misclassified.loc[1, 'text'])\n",
    "print()\n",
    "print(find_features(misclassified.loc[1, 'text']))"
   ]
  },
  {
   "cell_type": "code",
   "execution_count": null,
   "metadata": {
    "collapsed": true
   },
   "outputs": [],
   "source": []
  }
 ],
 "metadata": {
  "anaconda-cloud": {},
  "kernelspec": {
   "display_name": "Python 3",
   "language": "python",
   "name": "python3"
  },
  "language_info": {
   "codemirror_mode": {
    "name": "ipython",
    "version": 3
   },
   "file_extension": ".py",
   "mimetype": "text/x-python",
   "name": "python",
   "nbconvert_exporter": "python",
   "pygments_lexer": "ipython3",
   "version": "3.8.5"
  }
 },
 "nbformat": 4,
 "nbformat_minor": 2
}
