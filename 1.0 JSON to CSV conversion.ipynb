{
 "cells": [
  {
   "cell_type": "markdown",
   "metadata": {},
   "source": [
    "# Convert JSON file to CSV and include review after 2017-12-31"
   ]
  },
  {
   "cell_type": "code",
   "execution_count": 12,
   "metadata": {},
   "outputs": [],
   "source": [
    "#Load necessary libraries\n",
    "import pandas as pd\n",
    "import numpy as np\n",
    "import json\n",
    "import os\n",
    "import seaborn as sns\n",
    "from pandas.io.json import json_normalize\n",
    "import matplotlib.pyplot as plt\n",
    "import codecs\n",
    "from collections import defaultdict\n",
    "import json\n",
    "import dask.bag as db\n",
    "import datetime\n",
    "import dask.dataframe as dd"
   ]
  },
  {
   "cell_type": "code",
   "execution_count": 23,
   "metadata": {},
   "outputs": [],
   "source": [
    "# We use default list to read yelp_academic_dataset_business.json and yelp_academic_dataset_user.json\n",
    "d = defaultdict(list)\n",
    "\n",
    "parent_dir = 'D:/DCU Documents/Semester 2/Data Analytics and Data Mining/Project/Kaggle Dataset/'\n",
    "\n",
    "path_dic = {\n",
    "            'B': parent_dir+'yelp_academic_dataset_business.json',\n",
    "            'R':parent_dir+'yelp_academic_dataset_review.json',\n",
    "            'U':parent_dir+'yelp_academic_dataset_user.json'\n",
    "           }\n",
    "\n",
    "#Used dask.bag to read yelp_academic_dataset_user.json beacuse of size of the file (5GB)\n",
    "json_data = db.read_text(path_dic['R']).map(json.loads)\n",
    "json_data.to_dataframe()\n",
    "\n",
    "#Used pandas dataframe to read yelp_academic_dataset_user.json and yelp_academic_dataset_business.json\n",
    "for key in path_dic:\n",
    "    with codecs.open(path_dic[key],'r','utf-8') as f:\n",
    "        d[key] = pd.DataFrame(json.loads(line) for line in f)\n",
    "\n",
    "        "
   ]
  },
  {
   "cell_type": "code",
   "execution_count": 24,
   "metadata": {},
   "outputs": [],
   "source": [
    "for k in d:\n",
    "     d[k].to_csv('D:/DCU Documents/Semester 2/Data Analytics and Data Mining/Project/Kaggle Dataset/' + k + '.csv')"
   ]
  },
  {
   "cell_type": "code",
   "execution_count": 8,
   "metadata": {},
   "outputs": [
    {
     "data": {
      "text/plain": [
       "({'review_id': 'lWC-xP3rd6obsecCYsGZRg',\n",
       "  'user_id': 'ak0TdVmGKo4pwqdJSTLwWw',\n",
       "  'business_id': 'buF9druCkbuXLX526sGELQ',\n",
       "  'stars': 4.0,\n",
       "  'useful': 3,\n",
       "  'funny': 1,\n",
       "  'cool': 1,\n",
       "  'text': \"Apparently Prides Osteria had a rough summer as evidenced by the almost empty dining room at 6:30 on a Friday night. However new blood in the kitchen seems to have revitalized the food from other customers recent visits. Waitstaff was warm but unobtrusive. By 8 pm or so when we left the bar was full and the dining room was much more lively than it had been. Perhaps Beverly residents prefer a later seating. \\n\\nAfter reading the mixed reviews of late I was a little tentative over our choice but luckily there was nothing to worry about in the food department. We started with the fried dough, burrata and prosciutto which were all lovely. Then although they don't offer half portions of pasta we each ordered the entree size and split them. We chose the tagliatelle bolognese and a four cheese filled pasta in a creamy sauce with bacon, asparagus and grana frita. Both were very good. We split a secondi which was the special Berkshire pork secreto, which was described as a pork skirt steak with garlic potato purée and romanesco broccoli (incorrectly described as a romanesco sauce). Some tables received bread before the meal but for some reason we did not. \\n\\nManagement also seems capable for when the tenants in the apartment above began playing basketball she intervened and also comped the tables a dessert. We ordered the apple dumpling with gelato and it was also quite tasty. Portions are not huge which I particularly like because I prefer to order courses. If you are someone who orders just a meal you may leave hungry depending on you appetite. Dining room was mostly younger crowd while the bar was definitely the over 40 set. Would recommend that the naysayers return to see the improvement although I personally don't know the former glory to be able to compare. Easy access to downtown Salem without the crowds on this month of October.\",\n",
       "  'date': '2014-10-11 03:34:02'},\n",
       " {'review_id': '8bFej1QE5LXp4O05qjGqXA',\n",
       "  'user_id': 'YoVfDbnISlW0f7abNQACIg',\n",
       "  'business_id': 'RA4V8pr014UyUbDvI-LW2A',\n",
       "  'stars': 4.0,\n",
       "  'useful': 1,\n",
       "  'funny': 0,\n",
       "  'cool': 0,\n",
       "  'text': 'This store is pretty good. Not as great as Walmart (or my preferred, Milford Target), but closer and in a easier area to get to.  \\nThe store itself is pretty clean and organized, the staff are friendly (most of the time), and BEST of all is the Self Checkout this store has! \\nGreat clearance sections throughout, and great prices on everything in the store, in general (they pricematch too!). \\nChristian, Debbie, Jen and Hanna are all very friendly, helpful, sensitive to all customer needs. Definitely one of the better Target locations in the area, and they do a GREAT job assisting customers for being such a busy store. Located directly in the Framingham Mall on Cochituate Rd / Route 30. 4 stars.',\n",
       "  'date': '2015-07-03 20:38:25'})"
      ]
     },
     "execution_count": 8,
     "metadata": {},
     "output_type": "execute_result"
    }
   ],
   "source": [
    "#Check the value of json_data\n",
    "json_data.take(2)"
   ]
  },
  {
   "cell_type": "code",
   "execution_count": 14,
   "metadata": {},
   "outputs": [],
   "source": [
    "# Filter review yelp_academic_dataset_review.json to read only reviews after '2017-12-31'\n",
    "d1 = datetime.datetime(2017, 12, 31)\n",
    "json_data = json_data.filter(lambda record: datetime.datetime.strptime(record['date'], '%Y-%m-%d %H:%M:%S') > d1)"
   ]
  },
  {
   "cell_type": "code",
   "execution_count": 16,
   "metadata": {},
   "outputs": [
    {
     "data": {
      "text/html": [
       "<div>\n",
       "<style scoped>\n",
       "    .dataframe tbody tr th:only-of-type {\n",
       "        vertical-align: middle;\n",
       "    }\n",
       "\n",
       "    .dataframe tbody tr th {\n",
       "        vertical-align: top;\n",
       "    }\n",
       "\n",
       "    .dataframe thead th {\n",
       "        text-align: right;\n",
       "    }\n",
       "</style>\n",
       "<table border=\"1\" class=\"dataframe\">\n",
       "  <thead>\n",
       "    <tr style=\"text-align: right;\">\n",
       "      <th></th>\n",
       "      <th>review_id</th>\n",
       "      <th>user_id</th>\n",
       "      <th>business_id</th>\n",
       "      <th>stars</th>\n",
       "      <th>useful</th>\n",
       "      <th>funny</th>\n",
       "      <th>cool</th>\n",
       "      <th>text</th>\n",
       "      <th>date</th>\n",
       "    </tr>\n",
       "  </thead>\n",
       "  <tbody>\n",
       "    <tr>\n",
       "      <th>0</th>\n",
       "      <td>J4a2TuhDasjn2k3wWtHZnQ</td>\n",
       "      <td>RNm_RWkcd02Li2mKPRe7Eg</td>\n",
       "      <td>xGXzsc-hzam-VArK6eTvtw</td>\n",
       "      <td>1.0</td>\n",
       "      <td>2</td>\n",
       "      <td>0</td>\n",
       "      <td>0</td>\n",
       "      <td>This place used to be a cool, chill place. Now...</td>\n",
       "      <td>2018-01-21 04:41:03</td>\n",
       "    </tr>\n",
       "    <tr>\n",
       "      <th>1</th>\n",
       "      <td>ucFOnqgaV40oQ2YNyz5ddQ</td>\n",
       "      <td>JHXQEayrDHOWGexs0dCviA</td>\n",
       "      <td>KXCXaF5qimmtKKqnPc_LQA</td>\n",
       "      <td>1.0</td>\n",
       "      <td>0</td>\n",
       "      <td>0</td>\n",
       "      <td>0</td>\n",
       "      <td>Great coffee and pastries. Baristas are excell...</td>\n",
       "      <td>2018-03-03 23:45:25</td>\n",
       "    </tr>\n",
       "    <tr>\n",
       "      <th>2</th>\n",
       "      <td>vwPVD6AfV3Hi5F2bjKZK1w</td>\n",
       "      <td>g-1DDTwuJArYg2ZHolRAOw</td>\n",
       "      <td>vRrDTIW9IFBO4cc3laazUw</td>\n",
       "      <td>5.0</td>\n",
       "      <td>0</td>\n",
       "      <td>0</td>\n",
       "      <td>0</td>\n",
       "      <td>So sad to learn they are demolishing this. Alw...</td>\n",
       "      <td>2018-03-15 20:34:25</td>\n",
       "    </tr>\n",
       "    <tr>\n",
       "      <th>3</th>\n",
       "      <td>P320Yt8vFD3yjI34hq-umg</td>\n",
       "      <td>IMfkbLVt_GJfD7zJ9T4fcw</td>\n",
       "      <td>VPqWLp9kMiZEbctCebIZUA</td>\n",
       "      <td>3.0</td>\n",
       "      <td>0</td>\n",
       "      <td>0</td>\n",
       "      <td>0</td>\n",
       "      <td>Overall is good, is worth the line up I don't ...</td>\n",
       "      <td>2018-09-25 03:22:50</td>\n",
       "    </tr>\n",
       "    <tr>\n",
       "      <th>4</th>\n",
       "      <td>EO5rALvJMkK8QEvUNs1gxg</td>\n",
       "      <td>u2xPfv6_wcKt-lW-C1cV8A</td>\n",
       "      <td>9P-lp3AWDXGayDqJz9VPwQ</td>\n",
       "      <td>2.0</td>\n",
       "      <td>0</td>\n",
       "      <td>0</td>\n",
       "      <td>0</td>\n",
       "      <td>The ramen here is less than great. It came out...</td>\n",
       "      <td>2018-02-11 03:30:12</td>\n",
       "    </tr>\n",
       "  </tbody>\n",
       "</table>\n",
       "</div>"
      ],
      "text/plain": [
       "                review_id                 user_id             business_id  \\\n",
       "0  J4a2TuhDasjn2k3wWtHZnQ  RNm_RWkcd02Li2mKPRe7Eg  xGXzsc-hzam-VArK6eTvtw   \n",
       "1  ucFOnqgaV40oQ2YNyz5ddQ  JHXQEayrDHOWGexs0dCviA  KXCXaF5qimmtKKqnPc_LQA   \n",
       "2  vwPVD6AfV3Hi5F2bjKZK1w  g-1DDTwuJArYg2ZHolRAOw  vRrDTIW9IFBO4cc3laazUw   \n",
       "3  P320Yt8vFD3yjI34hq-umg  IMfkbLVt_GJfD7zJ9T4fcw  VPqWLp9kMiZEbctCebIZUA   \n",
       "4  EO5rALvJMkK8QEvUNs1gxg  u2xPfv6_wcKt-lW-C1cV8A  9P-lp3AWDXGayDqJz9VPwQ   \n",
       "\n",
       "   stars  useful  funny  cool  \\\n",
       "0    1.0       2      0     0   \n",
       "1    1.0       0      0     0   \n",
       "2    5.0       0      0     0   \n",
       "3    3.0       0      0     0   \n",
       "4    2.0       0      0     0   \n",
       "\n",
       "                                                text                 date  \n",
       "0  This place used to be a cool, chill place. Now...  2018-01-21 04:41:03  \n",
       "1  Great coffee and pastries. Baristas are excell...  2018-03-03 23:45:25  \n",
       "2  So sad to learn they are demolishing this. Alw...  2018-03-15 20:34:25  \n",
       "3  Overall is good, is worth the line up I don't ...  2018-09-25 03:22:50  \n",
       "4  The ramen here is less than great. It came out...  2018-02-11 03:30:12  "
      ]
     },
     "execution_count": 16,
     "metadata": {},
     "output_type": "execute_result"
    }
   ],
   "source": [
    "#Convert dask.bag to dask.dataframe\n",
    "\n",
    "def flatten(record):\n",
    "    return {\n",
    "        'review_id': record['review_id'],\n",
    "        'user_id': record['user_id'],\n",
    "        'business_id': record['business_id'],\n",
    "        'stars': record['stars'],\n",
    "        'useful': record['useful'],\n",
    "        'funny': record['funny'],\n",
    "        'cool': record['cool'],\n",
    "        'text': record['text'],\n",
    "        'date' : record['date']\n",
    "    }\n",
    "\n",
    "df = json_data.map(flatten).to_dataframe()\n",
    "df.head()"
   ]
  },
  {
   "cell_type": "code",
   "execution_count": 15,
   "metadata": {},
   "outputs": [
    {
     "data": {
      "text/plain": [
       "({'review_id': 'J4a2TuhDasjn2k3wWtHZnQ',\n",
       "  'user_id': 'RNm_RWkcd02Li2mKPRe7Eg',\n",
       "  'business_id': 'xGXzsc-hzam-VArK6eTvtw',\n",
       "  'stars': 1.0,\n",
       "  'useful': 2,\n",
       "  'funny': 0,\n",
       "  'cool': 0,\n",
       "  'text': 'This place used to be a cool, chill place. Now its a bunch of neanderthal bouncers hopped up on steroids acting like the can do whatever they want. There are so many better places in davis square where they are glad you are visiting their business. Sad that the burren is now the worst place in davis.',\n",
       "  'date': '2018-01-21 04:41:03'},\n",
       " {'review_id': 'ucFOnqgaV40oQ2YNyz5ddQ',\n",
       "  'user_id': 'JHXQEayrDHOWGexs0dCviA',\n",
       "  'business_id': 'KXCXaF5qimmtKKqnPc_LQA',\n",
       "  'stars': 1.0,\n",
       "  'useful': 0,\n",
       "  'funny': 0,\n",
       "  'cool': 0,\n",
       "  'text': 'Great coffee and pastries. Baristas are excellent. All the other staff are sooooo lost and vacant.',\n",
       "  'date': '2018-03-03 23:45:25'},\n",
       " {'review_id': 'vwPVD6AfV3Hi5F2bjKZK1w',\n",
       "  'user_id': 'g-1DDTwuJArYg2ZHolRAOw',\n",
       "  'business_id': 'vRrDTIW9IFBO4cc3laazUw',\n",
       "  'stars': 5.0,\n",
       "  'useful': 0,\n",
       "  'funny': 0,\n",
       "  'cool': 0,\n",
       "  'text': 'So sad to learn they are demolishing this. Always loved coming here and seeing all the graffiti art work.',\n",
       "  'date': '2018-03-15 20:34:25'},\n",
       " {'review_id': 'P320Yt8vFD3yjI34hq-umg',\n",
       "  'user_id': 'IMfkbLVt_GJfD7zJ9T4fcw',\n",
       "  'business_id': 'VPqWLp9kMiZEbctCebIZUA',\n",
       "  'stars': 3.0,\n",
       "  'useful': 0,\n",
       "  'funny': 0,\n",
       "  'cool': 0,\n",
       "  'text': \"Overall is good, is worth the line up I don't think so, mainly Instagram addict's go here. Believe me the food is great, service is ok, the hype about it I still dont get it.\",\n",
       "  'date': '2018-09-25 03:22:50'},\n",
       " {'review_id': 'EO5rALvJMkK8QEvUNs1gxg',\n",
       "  'user_id': 'u2xPfv6_wcKt-lW-C1cV8A',\n",
       "  'business_id': '9P-lp3AWDXGayDqJz9VPwQ',\n",
       "  'stars': 2.0,\n",
       "  'useful': 0,\n",
       "  'funny': 0,\n",
       "  'cool': 0,\n",
       "  'text': 'The ramen here is less than great. It came out luke warm and oily. The service we received was NOT good. I will not be returning.',\n",
       "  'date': '2018-02-11 03:30:12'})"
      ]
     },
     "execution_count": 15,
     "metadata": {},
     "output_type": "execute_result"
    }
   ],
   "source": [
    "#Checks if the filter of dates from 2018-12-31 worked\n",
    "json_data.take(5)"
   ]
  },
  {
   "cell_type": "code",
   "execution_count": 17,
   "metadata": {},
   "outputs": [
    {
     "data": {
      "text/plain": [
       "['D:/DCU Documents/Semester 2/Data Analytics and Data Mining/Project/Kaggle Dataset/R1.csv\\\\0.part']"
      ]
     },
     "execution_count": 17,
     "metadata": {},
     "output_type": "execute_result"
    }
   ],
   "source": [
    "#Convert to 'R.csv' from json file\n",
    "df.to_csv('D:/DCU Documents/Semester 2/Data Analytics and Data Mining/Project/Kaggle Dataset/' + 'R1' + '.csv')"
   ]
  }
 ],
 "metadata": {
  "anaconda-cloud": {},
  "kernelspec": {
   "display_name": "Python 3",
   "language": "python",
   "name": "python3"
  },
  "language_info": {
   "codemirror_mode": {
    "name": "ipython",
    "version": 3
   },
   "file_extension": ".py",
   "mimetype": "text/x-python",
   "name": "python",
   "nbconvert_exporter": "python",
   "pygments_lexer": "ipython3",
   "version": "3.8.5"
  }
 },
 "nbformat": 4,
 "nbformat_minor": 2
}
