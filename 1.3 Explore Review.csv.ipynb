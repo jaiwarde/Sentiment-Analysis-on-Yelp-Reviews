{
 "cells": [
  {
   "cell_type": "code",
   "execution_count": 1,
   "metadata": {},
   "outputs": [],
   "source": [
    "#Load necessary libraries\n",
    "import pandas as pd\n",
    "import numpy as np\n",
    "import json\n",
    "import os\n",
    "import seaborn as sns\n",
    "from pandas.io.json import json_normalize\n",
    "import matplotlib.pyplot as plt\n",
    "import codecs\n",
    "from collections import defaultdict\n",
    "import json\n",
    "import dask.bag as db\n",
    "import datetime\n",
    "import dask.dataframe as dd"
   ]
  },
  {
   "cell_type": "code",
   "execution_count": 13,
   "metadata": {},
   "outputs": [],
   "source": [
    "parent_dir = 'D:/DCU Documents/Semester 2/Data Analytics and Data Mining/Project/Kaggle Dataset/'\n",
    "\n",
    "path_dic = {\n",
    "            'B': parent_dir+'business_s.csv',\n",
    "            'R':parent_dir+'Review2020.csv',\n",
    "            'U':parent_dir+'U.csv'\n",
    "           }\n",
    "\n",
    "review_data = pd.read_csv(path_dic['R'])"
   ]
  },
  {
   "cell_type": "code",
   "execution_count": 14,
   "metadata": {},
   "outputs": [
    {
     "data": {
      "text/plain": [
       "'2020-01-06 17:06:31'"
      ]
     },
     "execution_count": 14,
     "metadata": {},
     "output_type": "execute_result"
    }
   ],
   "source": [
    "review_data['date'][4]"
   ]
  },
  {
   "cell_type": "code",
   "execution_count": 15,
   "metadata": {},
   "outputs": [
    {
     "data": {
      "text/plain": [
       "Index(['Unnamed: 0', 'Unnamed: 0.1', 'review_id', 'user_id', 'business_id',\n",
       "       'stars', 'useful', 'funny', 'cool', 'text', 'date'],\n",
       "      dtype='object')"
      ]
     },
     "execution_count": 15,
     "metadata": {},
     "output_type": "execute_result"
    }
   ],
   "source": [
    "review_data.columns"
   ]
  },
  {
   "cell_type": "code",
   "execution_count": 16,
   "metadata": {},
   "outputs": [],
   "source": [
    "# Filter review yelp_academic_dataset_review.json to read only reviews after '2017-12-31'\n",
    "import datetime as dt\n",
    "d1 = dt.datetime(2019, 12, 31)\n",
    "#print(dt.datetime.strptime(review_data['date'][3], '%Y-%m-%d %H:%M:%S'))\n",
    "\n",
    "review_data = review_data[review_data['date']> '2020-11-01 00:00:00']"
   ]
  },
  {
   "cell_type": "code",
   "execution_count": 17,
   "metadata": {},
   "outputs": [
    {
     "name": "stdout",
     "output_type": "stream",
     "text": [
      "134545\n",
      "2021-01-28 15:38:54\n",
      "2020-11-01 00:01:06\n"
     ]
    }
   ],
   "source": [
    "print(len(review_data))\n",
    "print(max(review_data['date']))\n",
    "print(min(review_data['date']))"
   ]
  },
  {
   "cell_type": "code",
   "execution_count": 18,
   "metadata": {},
   "outputs": [
    {
     "name": "stdout",
     "output_type": "stream",
     "text": [
      "138       2020-11-04 13:39:39\n",
      "144       2020-11-11 21:36:56\n",
      "145       2020-11-13 00:07:27\n",
      "146       2020-11-13 01:05:59\n",
      "147       2020-11-15 00:37:36\n",
      "                 ...         \n",
      "648414    2021-01-19 22:05:50\n",
      "648415    2021-01-23 19:20:36\n",
      "648416    2020-12-05 21:32:45\n",
      "648418    2021-01-25 14:53:13\n",
      "648419    2021-01-26 04:07:14\n",
      "Name: date, Length: 134545, dtype: object\n"
     ]
    }
   ],
   "source": [
    "print(review_data['date'])"
   ]
  },
  {
   "cell_type": "code",
   "execution_count": 19,
   "metadata": {},
   "outputs": [],
   "source": [
    "review_data.to_csv('D:/DCU Documents/Semester 2/Data Analytics and Data Mining/Project/Kaggle Dataset/' + 'Review2021' + '.csv')"
   ]
  },
  {
   "cell_type": "code",
   "execution_count": null,
   "metadata": {},
   "outputs": [],
   "source": []
  }
 ],
 "metadata": {
  "kernelspec": {
   "display_name": "Python 3",
   "language": "python",
   "name": "python3"
  },
  "language_info": {
   "codemirror_mode": {
    "name": "ipython",
    "version": 3
   },
   "file_extension": ".py",
   "mimetype": "text/x-python",
   "name": "python",
   "nbconvert_exporter": "python",
   "pygments_lexer": "ipython3",
   "version": "3.8.5"
  }
 },
 "nbformat": 4,
 "nbformat_minor": 4
}
