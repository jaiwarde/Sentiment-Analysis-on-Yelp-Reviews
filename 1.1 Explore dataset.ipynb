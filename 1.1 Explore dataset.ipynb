{
 "cells": [
  {
   "cell_type": "markdown",
   "metadata": {},
   "source": [
    "# Explore Business.csv and merge business.csv and review.csv"
   ]
  },
  {
   "cell_type": "code",
   "execution_count": 1,
   "metadata": {},
   "outputs": [],
   "source": [
    "#import all the necessary libraries\n",
    "import pandas as pd\n",
    "import numpy as np\n",
    "import json\n",
    "import os\n",
    "import seaborn as sns\n",
    "from pandas.io.json import json_normalize\n",
    "import matplotlib.pyplot as plt\n",
    "import dask.dataframe as dd\n",
    "from collections import defaultdict"
   ]
  },
  {
   "cell_type": "markdown",
   "metadata": {},
   "source": [
    "# Exploring data in business.csv file"
   ]
  },
  {
   "cell_type": "code",
   "execution_count": 112,
   "metadata": {},
   "outputs": [],
   "source": [
    "parent_dir = 'D:/DCU Documents/Semester 2/Data Analytics and Data Mining/Project/Kaggle Dataset/'\n",
    "\n",
    "path_dic = {\n",
    "            'B': parent_dir+'B.csv',\n",
    "            'R':parent_dir+'R1.csv',\n",
    "            'U':parent_dir+'U.csv'\n",
    "           }\n",
    "#Read B.csv file\n",
    "business_data = pd.read_csv(path_dic['B']).drop('Unnamed: 0', 1)"
   ]
  },
  {
   "cell_type": "code",
   "execution_count": 91,
   "metadata": {},
   "outputs": [
    {
     "data": {
      "text/plain": [
       "MA     36012\n",
       "OR     25175\n",
       "TX     24485\n",
       "FL     21907\n",
       "GA     18090\n",
       "BC     17298\n",
       "OH     11258\n",
       "CO      3198\n",
       "WA      3121\n",
       "CA        13\n",
       "NH         4\n",
       "AZ         2\n",
       "ON         2\n",
       "NY         2\n",
       "VA         2\n",
       "AL         1\n",
       "ABE        1\n",
       "IL         1\n",
       "DE         1\n",
       "WI         1\n",
       "KS         1\n",
       "NM         1\n",
       "HI         1\n",
       "KY         1\n",
       "DC         1\n",
       "OK         1\n",
       "MN         1\n",
       "WY         1\n",
       "MI         1\n",
       "NC         1\n",
       "ME         1\n",
       "Name: state, dtype: int64"
      ]
     },
     "execution_count": 91,
     "metadata": {},
     "output_type": "execute_result"
    }
   ],
   "source": [
    "#Examine the states with most number of business\n",
    "business_data['state'].value_counts()"
   ]
  },
  {
   "cell_type": "code",
   "execution_count": 92,
   "metadata": {},
   "outputs": [],
   "source": [
    "# 0.9997 of all business are in states: ['OR', 'MA', 'TX', 'FL', 'GA', 'BC', 'OH', 'CO', 'WA']\n",
    "# therefore throw out all the other states!\n",
    "\n",
    "len(business_data[business_data['state'].isin(['OR', 'MA', 'TX', 'FL', 'GA', 'BC', 'OH', 'CO', 'WA'])]) / len(business_data)\n",
    "business_data = business_data[business_data['state'].isin(['OR', 'MA', 'TX', 'FL', 'GA', 'BC', 'OH', 'CO', 'WA'])]\n",
    "business_data.to_csv(parent_dir+'business_s.csv')"
   ]
  },
  {
   "cell_type": "code",
   "execution_count": 94,
   "metadata": {},
   "outputs": [
    {
     "data": {
      "image/png": "[encoded data removed]",
      "text/plain": [
       "<Figure size 432x288 with 1 Axes>"
      ]
     },
     "metadata": {
      "needs_background": "light"
     },
     "output_type": "display_data"
    }
   ],
   "source": [
    "# looking at state dist.\n",
    "sns.countplot(data = business_data[business_data['state'].isin(['OR', 'MA', 'TX', 'FL', 'GA', 'BC', 'OH', 'CO', 'WA'])], y = 'state')\n",
    "plt.show()\n"
   ]
  },
  {
   "cell_type": "markdown",
   "metadata": {},
   "source": [
    "# Merge Review and business data"
   ]
  },
  {
   "cell_type": "code",
   "execution_count": 128,
   "metadata": {},
   "outputs": [],
   "source": [
    "#Read review.csv\n",
    "review_data = pd.read_csv(path_dic['R']+'/0.part')"
   ]
  },
  {
   "cell_type": "code",
   "execution_count": 129,
   "metadata": {
    "scrolled": true
   },
   "outputs": [
    {
     "data": {
      "text/plain": [
       "0          xGXzsc-hzam-VArK6eTvtw\n",
       "1          KXCXaF5qimmtKKqnPc_LQA\n",
       "2          vRrDTIW9IFBO4cc3laazUw\n",
       "3          VPqWLp9kMiZEbctCebIZUA\n",
       "4          9P-lp3AWDXGayDqJz9VPwQ\n",
       "                    ...          \n",
       "2771184    yyTtwwQ4JnQMJ2rn3W0S0g\n",
       "2771185    RDgwjgbu5xziFIAaNn3WCQ\n",
       "2771186    rbuj2X4SXIc3MDul4dcxIA\n",
       "2771187    IRzjEZ2pX4iOpnBG7oZJ7g\n",
       "2771188    pxwYIa1jZzHJ4R0Sp1cHFw\n",
       "Name: business_id, Length: 2771189, dtype: object"
      ]
     },
     "execution_count": 129,
     "metadata": {},
     "output_type": "execute_result"
    }
   ],
   "source": [
    "#Check the business ID\n",
    "review_data['business_id']"
   ]
  },
  {
   "cell_type": "code",
   "execution_count": 131,
   "metadata": {},
   "outputs": [],
   "source": [
    "#Merge business and review csv\n",
    "merged = review_data.merge(business_data, on = 'business_id', how = 'inner')"
   ]
  },
  {
   "cell_type": "code",
   "execution_count": 132,
   "metadata": {},
   "outputs": [
    {
     "data": {
      "text/plain": [
       "100610"
      ]
     },
     "execution_count": 132,
     "metadata": {},
     "output_type": "execute_result"
    }
   ],
   "source": [
    "#Check the length of merged dataset\n",
    "len(merged.drop_duplicates(subset = 'name'))"
   ]
  }
 ],
 "metadata": {
  "anaconda-cloud": {},
  "kernelspec": {
   "display_name": "Python 3",
   "language": "python",
   "name": "python3"
  },
  "language_info": {
   "codemirror_mode": {
    "name": "ipython",
    "version": 3
   },
   "file_extension": ".py",
   "mimetype": "text/x-python",
   "name": "python",
   "nbconvert_exporter": "python",
   "pygments_lexer": "ipython3",
   "version": "3.8.5"
  }
 },
 "nbformat": 4,
 "nbformat_minor": 2
}
