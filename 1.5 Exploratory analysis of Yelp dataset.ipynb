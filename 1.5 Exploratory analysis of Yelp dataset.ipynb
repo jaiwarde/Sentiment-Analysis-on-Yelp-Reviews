{
 "cells": [
  {
   "cell_type": "markdown",
   "metadata": {},
   "source": [
    "# Exploratory analysis of Yelp dataset"
   ]
  },
  {
   "cell_type": "code",
   "execution_count": 2,
   "metadata": {},
   "outputs": [],
   "source": [
    "#import all the necessary libraries\n",
    "import pandas as pd\n",
    "import numpy as np\n",
    "import os\n",
    "import seaborn as sns\n",
    "import matplotlib.pyplot as plt\n",
    "import itertools\n",
    "\n",
    "from collections import defaultdict"
   ]
  },
  {
   "cell_type": "code",
   "execution_count": 3,
   "metadata": {},
   "outputs": [],
   "source": [
    "import nltk\n",
    "import random\n",
    "from nltk.classify.scikitlearn import SklearnClassifier\n",
    "import pickle\n",
    "from sklearn.naive_bayes import MultinomialNB, BernoulliNB\n",
    "from sklearn.linear_model import LogisticRegression, SGDClassifier\n",
    "from sklearn.svm import SVC, LinearSVC, NuSVC\n",
    "from nltk.classify import ClassifierI\n",
    "from statistics import mode\n",
    "from nltk.tokenize import word_tokenize\n",
    "from nltk.stem import PorterStemmer, WordNetLemmatizer\n",
    "from nltk.tokenize import sent_tokenize, word_tokenize\n",
    "from sklearn.feature_extraction.text import TfidfVectorizer\n",
    "from sklearn.metrics import confusion_matrix, roc_auc_score\n",
    "from sklearn.feature_extraction.text import CountVectorizer"
   ]
  },
  {
   "cell_type": "code",
   "execution_count": 3,
   "metadata": {},
   "outputs": [],
   "source": [
    "#import all the files\n",
    "parent_dir = 'D:/DCU Documents/Semester 2/Data Analytics and Data Mining/Project/Kaggle Dataset/'\n",
    "\n",
    "path_dic = {\n",
    "            'B':parent_dir+'Business_SD_Mean.csv',\n",
    "            'R':parent_dir+'Review_polarity_subjectivity.csv',\n",
    "            'U':parent_dir+'User_SD_Mean.csv'\n",
    "           }\n",
    "\n",
    "user_data = pd.read_csv(path_dic['U'])\n",
    "business_data = pd.read_csv(path_dic['B'])\n",
    "review_data = pd.read_csv(path_dic['R'])"
   ]
  },
  {
   "cell_type": "code",
   "execution_count": 4,
   "metadata": {},
   "outputs": [
    {
     "name": "stdout",
     "output_type": "stream",
     "text": [
      "U :  (73384, 18)\n",
      "B :  (46367, 25)\n",
      "R :  (134545, 12)\n"
     ]
    }
   ],
   "source": [
    "#check the size of each dataframe\n",
    "print('U' + ' : ', user_data.shape)\n",
    "print('B' + ' : ', business_data.shape)\n",
    "print('R' + ' : ', review_data.shape)"
   ]
  },
  {
   "cell_type": "code",
   "execution_count": 11,
   "metadata": {},
   "outputs": [
    {
     "data": {
      "text/html": [
       "<div>\n",
       "<style scoped>\n",
       "    .dataframe tbody tr th:only-of-type {\n",
       "        vertical-align: middle;\n",
       "    }\n",
       "\n",
       "    .dataframe tbody tr th {\n",
       "        vertical-align: top;\n",
       "    }\n",
       "\n",
       "    .dataframe thead th {\n",
       "        text-align: right;\n",
       "    }\n",
       "</style>\n",
       "<table border=\"1\" class=\"dataframe\">\n",
       "  <thead>\n",
       "    <tr style=\"text-align: right;\">\n",
       "      <th></th>\n",
       "      <th>user_id</th>\n",
       "      <th>user_name</th>\n",
       "      <th>yelping_since</th>\n",
       "      <th>elite</th>\n",
       "      <th>friends</th>\n",
       "      <th>fans</th>\n",
       "      <th>average_stars</th>\n",
       "      <th>user_review_count</th>\n",
       "      <th>user_cool_mean</th>\n",
       "      <th>user_funny_mean</th>\n",
       "      <th>user_useful_mean</th>\n",
       "      <th>user_star_mean</th>\n",
       "      <th>user_star_std</th>\n",
       "      <th>user_polarity_mean</th>\n",
       "      <th>user_polarity_std</th>\n",
       "      <th>user_subjectivity_mean</th>\n",
       "      <th>user_subjectivity_std</th>\n",
       "    </tr>\n",
       "  </thead>\n",
       "  <tbody>\n",
       "    <tr>\n",
       "      <th>0</th>\n",
       "      <td>HM3JCyTu9PZOAvnbJV8Xsw</td>\n",
       "      <td>Kristen</td>\n",
       "      <td>2011-06-07 16:17:51</td>\n",
       "      <td>2016</td>\n",
       "      <td>l-OwsyvDCOyUPYSiJvmQkQ, jk90O0GXI-G5P-UnygbOMg...</td>\n",
       "      <td>10</td>\n",
       "      <td>3.94</td>\n",
       "      <td>3</td>\n",
       "      <td>0.0</td>\n",
       "      <td>0.0</td>\n",
       "      <td>0.333333</td>\n",
       "      <td>5.0</td>\n",
       "      <td>0.0</td>\n",
       "      <td>0.315361</td>\n",
       "      <td>0.07431</td>\n",
       "      <td>0.580611</td>\n",
       "      <td>0.163659</td>\n",
       "    </tr>\n",
       "  </tbody>\n",
       "</table>\n",
       "</div>"
      ],
      "text/plain": [
       "                  user_id user_name        yelping_since elite  \\\n",
       "0  HM3JCyTu9PZOAvnbJV8Xsw   Kristen  2011-06-07 16:17:51  2016   \n",
       "\n",
       "                                             friends  fans  average_stars  \\\n",
       "0  l-OwsyvDCOyUPYSiJvmQkQ, jk90O0GXI-G5P-UnygbOMg...    10           3.94   \n",
       "\n",
       "   user_review_count  user_cool_mean  user_funny_mean  user_useful_mean  \\\n",
       "0                  3             0.0              0.0          0.333333   \n",
       "\n",
       "   user_star_mean  user_star_std  user_polarity_mean  user_polarity_std  \\\n",
       "0             5.0            0.0            0.315361            0.07431   \n",
       "\n",
       "   user_subjectivity_mean  user_subjectivity_std  \n",
       "0                0.580611               0.163659  "
      ]
     },
     "execution_count": 11,
     "metadata": {},
     "output_type": "execute_result"
    }
   ],
   "source": [
    "#Check the first value\n",
    "\n",
    "user_data.head(1)\n",
    "#del user_data['Unnamed: 0']"
   ]
  },
  {
   "cell_type": "code",
   "execution_count": 12,
   "metadata": {},
   "outputs": [
    {
     "data": {
      "text/html": [
       "<div>\n",
       "<style scoped>\n",
       "    .dataframe tbody tr th:only-of-type {\n",
       "        vertical-align: middle;\n",
       "    }\n",
       "\n",
       "    .dataframe tbody tr th {\n",
       "        vertical-align: top;\n",
       "    }\n",
       "\n",
       "    .dataframe thead th {\n",
       "        text-align: right;\n",
       "    }\n",
       "</style>\n",
       "<table border=\"1\" class=\"dataframe\">\n",
       "  <thead>\n",
       "    <tr style=\"text-align: right;\">\n",
       "      <th></th>\n",
       "      <th>business_id</th>\n",
       "      <th>buz_name</th>\n",
       "      <th>address</th>\n",
       "      <th>city</th>\n",
       "      <th>state</th>\n",
       "      <th>postal_code</th>\n",
       "      <th>latitude</th>\n",
       "      <th>longitude</th>\n",
       "      <th>buz_stars</th>\n",
       "      <th>buz_review_count_x</th>\n",
       "      <th>...</th>\n",
       "      <th>buz_review_count_y</th>\n",
       "      <th>buz_cool_mean</th>\n",
       "      <th>buz_funny_mean</th>\n",
       "      <th>buz_useful_mean</th>\n",
       "      <th>buz_star_mean</th>\n",
       "      <th>buz_star_std</th>\n",
       "      <th>buz_polarity_mean</th>\n",
       "      <th>buz_polarity_std</th>\n",
       "      <th>buz_subjectivity_mean</th>\n",
       "      <th>buz_subjectivity_std</th>\n",
       "    </tr>\n",
       "  </thead>\n",
       "  <tbody>\n",
       "    <tr>\n",
       "      <th>0</th>\n",
       "      <td>6iYb2HFDywm3zjuRg0shjw</td>\n",
       "      <td>Oskar Blues Taproom</td>\n",
       "      <td>921 Pearl St</td>\n",
       "      <td>Boulder</td>\n",
       "      <td>CO</td>\n",
       "      <td>80302</td>\n",
       "      <td>40.017544</td>\n",
       "      <td>-105.283348</td>\n",
       "      <td>4.0</td>\n",
       "      <td>86</td>\n",
       "      <td>...</td>\n",
       "      <td>5</td>\n",
       "      <td>0.2</td>\n",
       "      <td>0.2</td>\n",
       "      <td>0.4</td>\n",
       "      <td>4.2</td>\n",
       "      <td>1.788854</td>\n",
       "      <td>0.466493</td>\n",
       "      <td>0.230207</td>\n",
       "      <td>0.670037</td>\n",
       "      <td>0.054056</td>\n",
       "    </tr>\n",
       "  </tbody>\n",
       "</table>\n",
       "<p>1 rows × 24 columns</p>\n",
       "</div>"
      ],
      "text/plain": [
       "              business_id             buz_name       address     city state  \\\n",
       "0  6iYb2HFDywm3zjuRg0shjw  Oskar Blues Taproom  921 Pearl St  Boulder    CO   \n",
       "\n",
       "  postal_code   latitude   longitude  buz_stars  buz_review_count_x  ...  \\\n",
       "0       80302  40.017544 -105.283348        4.0                  86  ...   \n",
       "\n",
       "   buz_review_count_y buz_cool_mean buz_funny_mean buz_useful_mean  \\\n",
       "0                   5           0.2            0.2             0.4   \n",
       "\n",
       "   buz_star_mean  buz_star_std  buz_polarity_mean  buz_polarity_std  \\\n",
       "0            4.2      1.788854           0.466493          0.230207   \n",
       "\n",
       "   buz_subjectivity_mean  buz_subjectivity_std  \n",
       "0               0.670037              0.054056  \n",
       "\n",
       "[1 rows x 24 columns]"
      ]
     },
     "execution_count": 12,
     "metadata": {},
     "output_type": "execute_result"
    }
   ],
   "source": [
    "#Check the first value\n",
    "\n",
    "business_data.head(1)\n",
    "#del business_data['Unnamed: 0']"
   ]
  },
  {
   "cell_type": "code",
   "execution_count": 14,
   "metadata": {},
   "outputs": [
    {
     "data": {
      "text/html": [
       "<div>\n",
       "<style scoped>\n",
       "    .dataframe tbody tr th:only-of-type {\n",
       "        vertical-align: middle;\n",
       "    }\n",
       "\n",
       "    .dataframe tbody tr th {\n",
       "        vertical-align: top;\n",
       "    }\n",
       "\n",
       "    .dataframe thead th {\n",
       "        text-align: right;\n",
       "    }\n",
       "</style>\n",
       "<table border=\"1\" class=\"dataframe\">\n",
       "  <thead>\n",
       "    <tr style=\"text-align: right;\">\n",
       "      <th></th>\n",
       "      <th>review_id</th>\n",
       "      <th>user_id</th>\n",
       "      <th>business_id</th>\n",
       "      <th>review_stars</th>\n",
       "      <th>review_useful</th>\n",
       "      <th>review_funny</th>\n",
       "      <th>review_cool</th>\n",
       "      <th>text_stem</th>\n",
       "      <th>date</th>\n",
       "      <th>polarity</th>\n",
       "      <th>subjectivity</th>\n",
       "    </tr>\n",
       "  </thead>\n",
       "  <tbody>\n",
       "    <tr>\n",
       "      <th>0</th>\n",
       "      <td>viFyq_J7aNNpTdpJZz0AZw</td>\n",
       "      <td>VVKciz1V7sK8J6Hg_Qs01A</td>\n",
       "      <td>5QzSq5x1pef5Jr5QWJ8sdw</td>\n",
       "      <td>1.0</td>\n",
       "      <td>0</td>\n",
       "      <td>0</td>\n",
       "      <td>0</td>\n",
       "      <td>They can't manage to get online orders right a...</td>\n",
       "      <td>2020-11-04 13:39:39</td>\n",
       "      <td>0.392857</td>\n",
       "      <td>0.580357</td>\n",
       "    </tr>\n",
       "  </tbody>\n",
       "</table>\n",
       "</div>"
      ],
      "text/plain": [
       "                review_id                 user_id             business_id  \\\n",
       "0  viFyq_J7aNNpTdpJZz0AZw  VVKciz1V7sK8J6Hg_Qs01A  5QzSq5x1pef5Jr5QWJ8sdw   \n",
       "\n",
       "   review_stars  review_useful  review_funny  review_cool  \\\n",
       "0           1.0              0             0            0   \n",
       "\n",
       "                                           text_stem                 date  \\\n",
       "0  They can't manage to get online orders right a...  2020-11-04 13:39:39   \n",
       "\n",
       "   polarity  subjectivity  \n",
       "0  0.392857      0.580357  "
      ]
     },
     "execution_count": 14,
     "metadata": {},
     "output_type": "execute_result"
    }
   ],
   "source": [
    "#Check the first value\n",
    "\n",
    "review_data.head(1)\n",
    "#del review_data['Unnamed: 0']"
   ]
  },
  {
   "cell_type": "code",
   "execution_count": 15,
   "metadata": {},
   "outputs": [],
   "source": [
    "# holistic summary of the given data set. \n",
    "# \"remove_bad_rowCol\" can be turned on to remove non-informative col / row\n",
    "\n",
    "def holistic_summary(df, remove_bad_rowCol = False, verbose = True):\n",
    "    # remove non-informative columns\n",
    "    if(remove_bad_rowCol):\n",
    "        df = df.drop(df.columns[df.isnull().sum() >= .9 * len(df)], axis = 1)\n",
    "        df = df.drop(df.index[df.isnull().sum(axis = 1) >= .5* len(df.columns)], axis = 0)\n",
    "        \n",
    "    # fix column names:\n",
    "    df.columns = [c.replace(\" \", \"_\").lower() for c in df.columns]\n",
    "    \n",
    "    print('***************************************************************')\n",
    "    print('Begin holistic summary: ')\n",
    "    print('***************************************************************\\n')\n",
    "    \n",
    "    print('Dimension of df: ' + str(df.shape))\n",
    "    print('Percentage of good observations: ' + str(1 - df.isnull().any(axis = 1).sum()/len(df)))\n",
    "    print('---------------------------------------------------------------\\n')\n",
    "    \n",
    "    print(\"Rows with nan values: \" + str(df.isnull().any(axis = 1).sum()))\n",
    "    print(\"Cols with nan values: \" + str(df.isnull().any(axis = 0).sum()))\n",
    "    print('Breakdown:')\n",
    "    print(df.isnull().sum()[df.isnull().sum()!=0])\n",
    "    print('---------------------------------------------------------------\\n')\n",
    "    \n",
    "    print('Columns details: ')\n",
    "    print('Columns with known dtypes: ')\n",
    "    good_cols = pd.DataFrame(df.dtypes[df.dtypes!='object'], columns = ['type'])\n",
    "    good_cols['nan_num'] = [df[col].isnull().sum() for col in good_cols.index]\n",
    "    good_cols['unique_val'] = [df[col].nunique() for col in good_cols.index]\n",
    "    good_cols['example'] = [df[col][1] for col in good_cols.index]\n",
    "    good_cols = good_cols.reindex(good_cols['type'].astype(str).str.len().sort_values().index)\n",
    "    print(good_cols)\n",
    "    print('\\n')\n",
    "    \n",
    "    try:\n",
    "        print('Columns with unknown dtypes:')\n",
    "        bad_cols = pd.DataFrame(df.dtypes[df.dtypes=='object'], columns = ['type'])\n",
    "        bad_cols['nan_num'] = [df[col].isnull().sum() for col in bad_cols.index]\n",
    "        bad_cols['unique_val'] = [df[col].nunique() for col in bad_cols.index]\n",
    "        bad_cols['example(sliced)'] = [str(df[col][1])[:10] for col in bad_cols.index]\n",
    "        bad_cols = bad_cols.reindex(bad_cols['example(sliced)'].str.len().sort_values().index)\n",
    "        print(bad_cols)\n",
    "    except Exception as e:\n",
    "        print('No columns with unknown dtypes!')\n",
    "    print('_______________________________________________________________\\n\\n\\n')\n",
    "    return df"
   ]
  },
  {
   "cell_type": "code",
   "execution_count": 16,
   "metadata": {},
   "outputs": [
    {
     "name": "stdout",
     "output_type": "stream",
     "text": [
      "***************************************************************\n",
      "Begin holistic summary: \n",
      "***************************************************************\n",
      "\n",
      "Dimension of df: (134545, 11)\n",
      "Percentage of good observations: 1.0\n",
      "---------------------------------------------------------------\n",
      "\n",
      "Rows with nan values: 0\n",
      "Cols with nan values: 0\n",
      "Breakdown:\n",
      "Series([], dtype: int64)\n",
      "---------------------------------------------------------------\n",
      "\n",
      "Columns details: \n",
      "Columns with known dtypes: \n",
      "                  type  nan_num  unique_val   example\n",
      "review_useful    int64        0          86  0.000000\n",
      "review_funny     int64        0          52  0.000000\n",
      "review_cool      int64        0          82  0.000000\n",
      "review_stars   float64        0           5  2.000000\n",
      "polarity       float64        0       64688 -0.138333\n",
      "subjectivity   float64        0       50616  0.580000\n",
      "\n",
      "\n",
      "Columns with unknown dtypes:\n",
      "               type  nan_num  unique_val example(sliced)\n",
      "review_id    object        0      134545      _gcEQjBhP4\n",
      "user_id      object        0       85395      BsO52pt3Ym\n",
      "business_id  object        0       46375      ufZddj_Wo5\n",
      "text_stem    object        0      134435      Sorry but \n",
      "date         object        0      132870      2020-11-11\n",
      "_______________________________________________________________\n",
      "\n",
      "\n",
      "\n"
     ]
    }
   ],
   "source": [
    "#Check the summary of review_data dataframe\n",
    "review_data.index = range(len(review_data))\n",
    "review_data = holistic_summary(review_data)"
   ]
  },
  {
   "cell_type": "code",
   "execution_count": 11,
   "metadata": {},
   "outputs": [],
   "source": [
    "# fixing dtypes: time and numeric variables\n",
    "def fix_dtypes(df, time_cols = [], num_cols = []):\n",
    "    \n",
    "    print('***************************************************************')\n",
    "    print('Begin fixing data types: ')\n",
    "    print('***************************************************************\\n')\n",
    "    \n",
    "    def fix_time_col(df, time_cols):\n",
    "        for time_col in time_cols:\n",
    "            df[time_col] = pd.to_datetime(df[time_col], errors = 'coerce')\n",
    "        print('---------------------------------------------------------------')\n",
    "        print('The following time columns has been fixed: ')\n",
    "        print(time_cols)\n",
    "        print('---------------------------------------------------------------\\n')\n",
    "\n",
    "    def fix_factor_col(df):\n",
    "        categorical_col = []\n",
    "        for col in df.columns:\n",
    "            if (df[col].nunique()<12) & (df[col].nunique()<len(df)/10):\n",
    "                df[col] = df[col].astype('category')\n",
    "                categorical_col.append(col)\n",
    "        print('---------------------------------------------------------------')\n",
    "        print('The following category columns has been fixed: ')\n",
    "        print(categorical_col)\n",
    "        print('---------------------------------------------------------------\\n')\n",
    "\n",
    "    def fix_num_col(df, num_cols):\n",
    "        for col in num_cols:\n",
    "            df[col] = pd.to_numeric(df[col], errors = 'coerce')\n",
    "        print('---------------------------------------------------------------')\n",
    "        print('The following number columns has been fixed: ')\n",
    "        print(num_cols)\n",
    "        print('---------------------------------------------------------------\\n')\n",
    "        \n",
    "    if(len(num_cols) > 0):\n",
    "        fix_num_col(df, num_cols)\n",
    "    fix_time_col(df, time_cols)\n",
    "    #fix_factor_col(df)\n",
    "    #fix_string_col(df)\n",
    "    print('---------------------------------------------------------------')\n",
    "    print('Final data types:')\n",
    "    result = pd.DataFrame(df.dtypes, columns = ['type'])\n",
    "    result = result.reindex(result['type'].astype(str).str.len().sort_values().index)\n",
    "    print(result)\n",
    "    print('_______________________________________________________________\\n\\n\\n')\n",
    "    return df\n"
   ]
  },
  {
   "cell_type": "code",
   "execution_count": 5,
   "metadata": {},
   "outputs": [],
   "source": [
    "# A function that adds number of ppl in each bucket\n",
    "def annot():\n",
    "    for p in ax.patches:\n",
    "        x=p.get_bbox().get_points()[:,0]\n",
    "        y=p.get_bbox().get_points()[1,1]\n",
    "        ax.annotate('{:.0f}'.format(y), (x.mean(), y), \n",
    "                ha='center', va='bottom') # set the alignment of the text"
   ]
  },
  {
   "cell_type": "code",
   "execution_count": 7,
   "metadata": {},
   "outputs": [
    {
     "name": "stderr",
     "output_type": "stream",
     "text": [
      "No handles with labels found to put in legend.\n"
     ]
    },
    {
     "data": {
      "image/png": "[encoded data removed]",
      "text/plain": [
       "<Figure size 720x504 with 1 Axes>"
      ]
     },
     "metadata": {},
     "output_type": "display_data"
    }
   ],
   "source": [
    "#bar chart of all the business in Yelp dataset since 2004 - 2021\n",
    "\n",
    "full_business_data = pd.read_csv('D:/DCU Documents/Semester 2/Data Analytics and Data Mining/Project/Kaggle Dataset/business_s.csv')\n",
    "sns.set(style = 'ticks')\n",
    "ax = sns.countplot(x = 'state',data = full_business_data)\n",
    "plt.rcParams[\"figure.figsize\"] = (10,7)\n",
    "\n",
    "\n",
    "# plt.xlabel('')\n",
    "# plt.xticks(np.arange(0, 7), ['Mon', 'Tues', 'Wed', 'Thur', 'Fri', 'Sat', 'Sun'])\n",
    "plt.ylabel('Number of businesses')\n",
    "plt.title('Number of Business by State since 2004 - 2021')\n",
    "plt.ylim(0, 40000)\n",
    "sns.despine()\n",
    "annot()\n",
    "plt.legend(loc = 0)\n",
    "plt.tight_layout()\n",
    "plt.savefig('D:/DCU Documents/Semester 2/Data Analytics and Data Mining/Project/Kaggle Dataset/State Distribution.png', dpi = 300)  \n",
    "plt.show()"
   ]
  },
  {
   "cell_type": "code",
   "execution_count": null,
   "metadata": {},
   "outputs": [],
   "source": [
    "#Read all the review dataset since 2020 and convert the dtype of dates column to dattime object\n",
    "review_data2020_2021 = pd.read_csv('D:/DCU Documents/Semester 2/Data Analytics and Data Mining/Project/Kaggle Dataset/Review2020.csv')\n",
    "review_data2020_2021 = fix_dtypes(review_data2020_2021, time_cols = ['date'])"
   ]
  },
  {
   "cell_type": "code",
   "execution_count": 34,
   "metadata": {},
   "outputs": [],
   "source": [
    "# Adding week and weekday column\n",
    "review_data2020_2021['year'] = [review_data2020_2021['date'][i].year for i in range(len(review_data2020_2021))]\n",
    "review_data2020_2021['month'] = [review_data2020_2021['date'][i].month for i in range(len(review_data2020_2021))]\n",
    "review_data2020_2021['week'] = [review_data2020_2021['date'][i].isocalendar()[1] for i in range(len(review_data2020_2021))]\n",
    "review_data2020_2021['weekday'] = [review_data2020_2021['date'][i].weekday() for i in range(len(review_data2020_2021))]"
   ]
  },
  {
   "cell_type": "code",
   "execution_count": 36,
   "metadata": {},
   "outputs": [],
   "source": [
    "#Create a column pos with every rating greater than 3 is regarded as pos(1) and neg(0)\n",
    "review_data2020_2021['pos'] = np.where(review_data2020_2021['stars'] >3, 1, 0)"
   ]
  },
  {
   "cell_type": "code",
   "execution_count": 41,
   "metadata": {},
   "outputs": [
    {
     "data": {
      "image/png": "[encoded data removed]",
      "text/plain": [
       "<Figure size 432x288 with 1 Axes>"
      ]
     },
     "metadata": {},
     "output_type": "display_data"
    }
   ],
   "source": [
    "#bar chart with total count of reviews everyday since 2020\n",
    "\n",
    "%matplotlib inline\n",
    "sns.set(style = 'ticks')\n",
    "ax = sns.countplot(x = 'weekday',hue = 'pos', data = review_data2020_2021)\n",
    "\n",
    "# plt.xlabel('')\n",
    "plt.xticks(np.arange(0, 7), ['Mon', 'Tues', 'Wed', 'Thur', 'Fri', 'Sat', 'Sun'])\n",
    "plt.ylabel('Number of Reviews')\n",
    "plt.title('Rating based Weekday Trend 2020 - 2021')\n",
    "sns.despine()\n",
    "annot()\n",
    "plt.legend(loc = 0)\n",
    "plt.savefig('D:/DCU Documents/Semester 2/Data Analytics and Data Mining/Project/Kaggle Dataset/Weekday_Trend.png', dpi = 300)  \n",
    "plt.show()"
   ]
  },
  {
   "cell_type": "code",
   "execution_count": 42,
   "metadata": {},
   "outputs": [
    {
     "data": {
      "image/png": "[encoded data removed]",
      "text/plain": [
       "<Figure size 432x288 with 1 Axes>"
      ]
     },
     "metadata": {},
     "output_type": "display_data"
    }
   ],
   "source": [
    "#bar chart with total count of reviews every month since 2020\n",
    "\n",
    "sns.set(style = 'ticks')\n",
    "ax = sns.countplot(x = 'month',hue = 'pos', data = review_data2020_2021)\n",
    "\n",
    "# plt.xlabel('')\n",
    "plt.xticks(np.arange(0, 12), ['Jan', 'Feb', 'Mar', 'Apr', 'May', 'June', 'July', 'Aug', 'Sep', 'Dec', 'Nov', 'Dec'])\n",
    "plt.ylabel('Number of Reviews')\n",
    "plt.title('Rating based Monthly Trend 2020-2021')\n",
    "#plt.ylim(0, 4000)\n",
    "sns.despine()\n",
    "annot()\n",
    "plt.legend(loc = 0)\n",
    "plt.savefig('D:/DCU Documents/Semester 2/Data Analytics and Data Mining/Project/Kaggle Dataset/Monthly Trend.png', dpi = 300)  \n",
    "plt.show()"
   ]
  },
  {
   "cell_type": "code",
   "execution_count": 9,
   "metadata": {},
   "outputs": [],
   "source": [
    "#read all the reviews since 2015\n",
    "review_data_years = pd.read_csv('D:/DCU Documents/Semester 2/Data Analytics and Data Mining/Project/Kaggle Dataset/R.csv'+'/0.part')"
   ]
  },
  {
   "cell_type": "code",
   "execution_count": 12,
   "metadata": {},
   "outputs": [
    {
     "name": "stdout",
     "output_type": "stream",
     "text": [
      "***************************************************************\n",
      "Begin fixing data types: \n",
      "***************************************************************\n",
      "\n",
      "---------------------------------------------------------------\n",
      "The following time columns has been fixed: \n",
      "['date']\n",
      "---------------------------------------------------------------\n",
      "\n",
      "---------------------------------------------------------------\n",
      "Final data types:\n",
      "                       type\n",
      "Unnamed: 0            int64\n",
      "useful                int64\n",
      "funny                 int64\n",
      "cool                  int64\n",
      "review_id            object\n",
      "user_id              object\n",
      "business_id          object\n",
      "text                 object\n",
      "stars               float64\n",
      "date         datetime64[ns]\n",
      "_______________________________________________________________\n",
      "\n",
      "\n",
      "\n"
     ]
    }
   ],
   "source": [
    "#convert the dtype of dates column to dattime object\n",
    "review_data_years = fix_dtypes(review_data_years, time_cols = ['date'])"
   ]
  },
  {
   "cell_type": "code",
   "execution_count": 13,
   "metadata": {},
   "outputs": [],
   "source": [
    "#Create a column year to conatin the year in which  the review was given\n",
    "review_data_years['year'] = [review_data_years['date'][i].year for i in range(len(review_data_years))]"
   ]
  },
  {
   "cell_type": "code",
   "execution_count": 15,
   "metadata": {},
   "outputs": [],
   "source": [
    "#Create a column pos with every rating greater than 3 is regarded as pos(1) and neg(0)\n",
    "review_data_years['pos'] = np.where(review_data_years['stars'] >3, 1, 0)"
   ]
  },
  {
   "cell_type": "code",
   "execution_count": 17,
   "metadata": {},
   "outputs": [],
   "source": [
    "#REmove the reviews which were given in 2014 since all the review are not present in the csv file\n",
    "review_data_years = review_data_years[review_data_years['year'] > 2014]"
   ]
  },
  {
   "cell_type": "code",
   "execution_count": 18,
   "metadata": {
    "scrolled": true
   },
   "outputs": [
    {
     "data": {
      "image/png": "[encoded data removed]",
      "text/plain": [
       "<Figure size 504x360 with 1 Axes>"
      ]
     },
     "metadata": {},
     "output_type": "display_data"
    }
   ],
   "source": [
    "#bar chart with total count of reviews every month year since 2015\n",
    "plt.rcParams[\"figure.figsize\"] = (7,5)\n",
    "ax = sns.countplot(x = 'year',hue = 'pos', data = review_data_years)\n",
    "plt.ylabel('Number of Reviews')\n",
    "plt.title('Rating based Yearly Trend')\n",
    "sns.despine()\n",
    "plt.legend(loc = 2)\n",
    "plt.savefig('D:/DCU Documents/Semester 2/Data Analytics and Data Mining/Project/Kaggle Dataset/Yearly Trend.png', dpi = 300)  \n",
    "plt.show()"
   ]
  }
 ],
 "metadata": {
  "anaconda-cloud": {},
  "kernelspec": {
   "display_name": "Python 3",
   "language": "python",
   "name": "python3"
  },
  "language_info": {
   "codemirror_mode": {
    "name": "ipython",
    "version": 3
   },
   "file_extension": ".py",
   "mimetype": "text/x-python",
   "name": "python",
   "nbconvert_exporter": "python",
   "pygments_lexer": "ipython3",
   "version": "3.8.5"
  }
 },
 "nbformat": 4,
 "nbformat_minor": 2
}
